{
 "cells": [
  {
   "cell_type": "markdown",
   "metadata": {},
   "source": [
    "This Notebook shows introduces the basic concepts of RDDs and operations on them visually, by showing the contents of the RDDs as a table.\n",
    "\n",
    "**Note: If you are looking at this in GitHub, you may not be able to see the HTML tables. Make sure to use the nbviewer link: http://nbviewer.jupyter.org/github/umddb/cmsc424-fall2016/tree/master/**\n",
    "\n",
    "### Introduction\n",
    "\n",
    "Apache Spark is a relatively new cluster computing framework, developed originally at UC Berkeley. It significantly generalizes the 2-stage Map-Reduce paradigm (originally proposed by Google and popularized by open-source Hadoop system); Spark is instead based on the abstraction of **resilient distributed datasets (RDDs)**. An RDD is basically a distributed collection of items, that can be created in a variety of ways. Spark provides a set of operations to transform one or more RDDs into an output RDD, and analysis tasks are written as chains of these operations."
   ]
  },
  {
   "cell_type": "markdown",
   "metadata": {},
   "source": [
    "### Display RDD\n",
    "The following helper functions displays the current contents of an RDD (partition-by-partition). This is best used for small RDDs with manageable number of partitions."
   ]
  },
  {
   "cell_type": "code",
   "execution_count": 9,
   "metadata": {},
   "outputs": [],
   "source": [
    "class DisplayRDD:\n",
    "        def __init__(self, rdd):\n",
    "                self.rdd = rdd\n",
    "\n",
    "        def _repr_html_(self):                                  \n",
    "                x = self.rdd.mapPartitionsWithIndex(lambda i, x: [(i, [y for y in x])])\n",
    "                l = x.collect()\n",
    "                s = \"<table style=\\\"border: 1px\\\"><tr>{}</tr><tr><td>\".format(\"\".join([\"<th>Partition {}\".format(str(j)) for (j, r) in l]))\n",
    "                s += '</td><td valign=\"bottom\" halign=\"left\">'.join([\"<ul><li>{}</ul>\".format(\"<li>\".join([str(rr) for rr in r])) for (j, r) in l])\n",
    "                s += \"</td></table>\"\n",
    "                return s"
   ]
  },
  {
   "cell_type": "markdown",
   "metadata": {},
   "source": [
    "### Importing the packages "
   ]
  },
  {
   "cell_type": "code",
   "execution_count": 2,
   "metadata": {},
   "outputs": [],
   "source": [
    "import pyspark\n",
    "sc = pyspark.SparkContext('local[*]')"
   ]
  },
  {
   "cell_type": "markdown",
   "metadata": {
    "collapsed": true
   },
   "source": [
    "### Basics 1\n",
    "Lets start with some basic operations using a small RDD to visualize what's going on. We will create a RDD of Strings, using the `states.txt` file which contains a list of the state names.\n",
    "\n",
    "The notebook has already initialized a SparkContext, and we can refer to it as `sc`.\n",
    "\n",
    "We will use `sc.textFile` to create this RDD. This operations reads the file and treats every line as a separate object. We will use DisplayRDD() to visualize it. The second argument of `sc.textFile` is the number of partitions. We will set this as 10 to get started. If we don't do that, Spark will only create a single partition given the file is pretty small."
   ]
  },
  {
   "cell_type": "code",
   "execution_count": 10,
   "metadata": {},
   "outputs": [
    {
     "data": {
      "text/html": [
       "<table style=\"border: 1px\"><tr><th>Partition 0<th>Partition 1<th>Partition 2<th>Partition 3<th>Partition 4<th>Partition 5<th>Partition 6<th>Partition 7<th>Partition 8<th>Partition 9</tr><tr><td><ul><li>Alabama<li>Hawaii<li>Massachusetts<li>New Mexico<li>South Dakota</ul></td><td valign=\"bottom\" halign=\"left\"><ul><li>Alaska<li>Idaho<li>Michigan<li>New York<li>Tennessee<li>Arizona</ul></td><td valign=\"bottom\" halign=\"left\"><ul><li>Illinois<li>Minnesota<li>North Carolina<li>Texas</ul></td><td valign=\"bottom\" halign=\"left\"><ul><li>Arkansas<li>Indiana<li>Mississippi<li>North Dakota<li>Utah</ul></td><td valign=\"bottom\" halign=\"left\"><ul><li>California<li>Iowa<li>Missouri<li>Ohio<li>Vermont<li>Colorado</ul></td><td valign=\"bottom\" halign=\"left\"><ul><li>Kansas<li>Montana<li>Oklahoma<li>Virginia<li>Connecticut<li>Kentucky</ul></td><td valign=\"bottom\" halign=\"left\"><ul><li>Nebraska<li>Oregon<li>Washington<li>Delaware<li>Louisiana</ul></td><td valign=\"bottom\" halign=\"left\"><ul><li>Nevada<li>Pennsylvania<li>West Virginia<li>Florida</ul></td><td valign=\"bottom\" halign=\"left\"><ul><li>Maine<li>New Hampshire<li>Rhode Island<li>Wisconsin<li>Georgia</ul></td><td valign=\"bottom\" halign=\"left\"><ul><li>Maryland<li>New Jersey<li>South Carolina<li>Wyoming</ul></td></table>"
      ],
      "text/plain": [
       "<__main__.DisplayRDD at 0x7fe6e80fbba8>"
      ]
     },
     "execution_count": 10,
     "metadata": {},
     "output_type": "execute_result"
    }
   ],
   "source": [
    "states_rdd = sc.textFile('states.txt', 10)\n",
    "DisplayRDD(states_rdd)"
   ]
  },
  {
   "cell_type": "markdown",
   "metadata": {},
   "source": [
    "The above table shows the contents of each partition as a list -- so the first Partition has 5 elements in it ('Alabama', ...). We can `repartition` the RDD to get a fewer partitions so it will be easier to see."
   ]
  },
  {
   "cell_type": "code",
   "execution_count": 11,
   "metadata": {},
   "outputs": [
    {
     "data": {
      "text/html": [
       "<table style=\"border: 1px\"><tr><th>Partition 0<th>Partition 1<th>Partition 2<th>Partition 3<th>Partition 4</tr><tr><td><ul><li>Arkansas<li>Indiana<li>Mississippi<li>North Dakota<li>Utah<li>Maine<li>New Hampshire<li>Rhode Island<li>Wisconsin<li>Georgia<li>Maryland<li>New Jersey<li>South Carolina<li>Wyoming</ul></td><td valign=\"bottom\" halign=\"left\"><ul><li>Alabama<li>Hawaii<li>Massachusetts<li>New Mexico<li>South Dakota<li>Alaska<li>Idaho<li>Michigan<li>New York<li>Tennessee<li>Arizona</ul></td><td valign=\"bottom\" halign=\"left\"><ul><li>Nebraska<li>Oregon<li>Washington<li>Delaware<li>Louisiana<li>Nevada<li>Pennsylvania<li>West Virginia<li>Florida</ul></td><td valign=\"bottom\" halign=\"left\"><ul><li>California<li>Iowa<li>Missouri<li>Ohio<li>Vermont<li>Colorado<li>Kansas<li>Montana<li>Oklahoma<li>Virginia<li>Connecticut<li>Kentucky</ul></td><td valign=\"bottom\" halign=\"left\"><ul><li>Illinois<li>Minnesota<li>North Carolina<li>Texas</ul></td></table>"
      ],
      "text/plain": [
       "<__main__.DisplayRDD at 0x7fe6e80fb978>"
      ]
     },
     "execution_count": 11,
     "metadata": {},
     "output_type": "execute_result"
    }
   ],
   "source": [
    "states_rdd = states_rdd.repartition(5)\n",
    "DisplayRDD(states_rdd)"
   ]
  },
  {
   "cell_type": "markdown",
   "metadata": {},
   "source": [
    "Let's do a transformation where we convert a string to a 2-tuple, where the second value is the length of the string. We will just use a `map` for this -- we have to provide a function as the input that transforms each element of the RDD. In this case, we are using the `lambda` keyword to define a function inline. See here: https://pythonconquerstheuniverse.wordpress.com/2011/08/29/lambda_tutorial/ for a tutorial on lambda functions.\n",
    "\n",
    "The below lambda function is simply taking in a string: s, and returning a 2-tuple: (s, len(s))"
   ]
  },
  {
   "cell_type": "code",
   "execution_count": 12,
   "metadata": {},
   "outputs": [
    {
     "data": {
      "text/html": [
       "<table style=\"border: 1px\"><tr><th>Partition 0<th>Partition 1<th>Partition 2<th>Partition 3<th>Partition 4</tr><tr><td><ul><li>('Arkansas', 8)<li>('Indiana', 7)<li>('Mississippi', 11)<li>('North Dakota', 12)<li>('Utah', 4)<li>('Maine', 5)<li>('New Hampshire', 13)<li>('Rhode Island', 12)<li>('Wisconsin', 9)<li>('Georgia', 7)<li>('Maryland', 8)<li>('New Jersey', 10)<li>('South Carolina', 14)<li>('Wyoming', 7)</ul></td><td valign=\"bottom\" halign=\"left\"><ul><li>('Alabama', 7)<li>('Hawaii', 6)<li>('Massachusetts', 13)<li>('New Mexico', 10)<li>('South Dakota', 12)<li>('Alaska', 6)<li>('Idaho', 5)<li>('Michigan', 8)<li>('New York', 8)<li>('Tennessee', 9)<li>('Arizona', 7)</ul></td><td valign=\"bottom\" halign=\"left\"><ul><li>('Nebraska', 8)<li>('Oregon', 6)<li>('Washington', 10)<li>('Delaware', 8)<li>('Louisiana', 9)<li>('Nevada', 6)<li>('Pennsylvania', 12)<li>('West Virginia', 13)<li>('Florida', 7)</ul></td><td valign=\"bottom\" halign=\"left\"><ul><li>('California', 10)<li>('Iowa', 4)<li>('Missouri', 8)<li>('Ohio', 4)<li>('Vermont', 7)<li>('Colorado', 8)<li>('Kansas', 6)<li>('Montana', 7)<li>('Oklahoma', 8)<li>('Virginia', 8)<li>('Connecticut', 11)<li>('Kentucky', 8)</ul></td><td valign=\"bottom\" halign=\"left\"><ul><li>('Illinois', 8)<li>('Minnesota', 9)<li>('North Carolina', 14)<li>('Texas', 5)</ul></td></table>"
      ],
      "text/plain": [
       "<__main__.DisplayRDD at 0x7fe6e8156128>"
      ]
     },
     "execution_count": 12,
     "metadata": {},
     "output_type": "execute_result"
    }
   ],
   "source": [
    "states1 = states_rdd.map(lambda s: (s, len(s)))\n",
    "DisplayRDD(states1)"
   ]
  },
  {
   "cell_type": "markdown",
   "metadata": {},
   "source": [
    "Lets collect all the names with the same length together using a group by operation. \n",
    "```\n",
    "groupByKey([numTasks]) \tWhen called on a dataset of (K, V) pairs, returns a dataset of (K, Iterable<V>) pairs. \n",
    "```\n",
    "This wouldn't work as is, because state1 is using the name as the key. Let's change that around."
   ]
  },
  {
   "cell_type": "code",
   "execution_count": 14,
   "metadata": {},
   "outputs": [
    {
     "data": {
      "text/html": [
       "<table style=\"border: 1px\"><tr><th>Partition 0<th>Partition 1<th>Partition 2<th>Partition 3<th>Partition 4</tr><tr><td><ul><li>(8, 'Arkansas')<li>(7, 'Indiana')<li>(11, 'Mississippi')<li>(12, 'North Dakota')<li>(4, 'Utah')<li>(5, 'Maine')<li>(13, 'New Hampshire')<li>(12, 'Rhode Island')<li>(9, 'Wisconsin')<li>(7, 'Georgia')<li>(8, 'Maryland')<li>(10, 'New Jersey')<li>(14, 'South Carolina')<li>(7, 'Wyoming')</ul></td><td valign=\"bottom\" halign=\"left\"><ul><li>(7, 'Alabama')<li>(6, 'Hawaii')<li>(13, 'Massachusetts')<li>(10, 'New Mexico')<li>(12, 'South Dakota')<li>(6, 'Alaska')<li>(5, 'Idaho')<li>(8, 'Michigan')<li>(8, 'New York')<li>(9, 'Tennessee')<li>(7, 'Arizona')</ul></td><td valign=\"bottom\" halign=\"left\"><ul><li>(8, 'Nebraska')<li>(6, 'Oregon')<li>(10, 'Washington')<li>(8, 'Delaware')<li>(9, 'Louisiana')<li>(6, 'Nevada')<li>(12, 'Pennsylvania')<li>(13, 'West Virginia')<li>(7, 'Florida')</ul></td><td valign=\"bottom\" halign=\"left\"><ul><li>(10, 'California')<li>(4, 'Iowa')<li>(8, 'Missouri')<li>(4, 'Ohio')<li>(7, 'Vermont')<li>(8, 'Colorado')<li>(6, 'Kansas')<li>(7, 'Montana')<li>(8, 'Oklahoma')<li>(8, 'Virginia')<li>(11, 'Connecticut')<li>(8, 'Kentucky')</ul></td><td valign=\"bottom\" halign=\"left\"><ul><li>(8, 'Illinois')<li>(9, 'Minnesota')<li>(14, 'North Carolina')<li>(5, 'Texas')</ul></td></table>"
      ],
      "text/plain": [
       "<__main__.DisplayRDD at 0x7fe6e818e4e0>"
      ]
     },
     "execution_count": 14,
     "metadata": {},
     "output_type": "execute_result"
    }
   ],
   "source": [
    "states2 = states1.map(lambda x: (x[1], x[0]))\n",
    "DisplayRDD(states2)"
   ]
  },
  {
   "cell_type": "markdown",
   "metadata": {},
   "source": [
    "Note above that Spark did not do a shuffle to ensure that the same `keys` end up on the same partition. In fact, the `map` operation does not do a shuffle. \n",
    "\n",
    "Now we can do a groupByKey. "
   ]
  },
  {
   "cell_type": "code",
   "execution_count": 15,
   "metadata": {},
   "outputs": [
    {
     "data": {
      "text/html": [
       "<table style=\"border: 1px\"><tr><th>Partition 0<th>Partition 1<th>Partition 2<th>Partition 3<th>Partition 4</tr><tr><td><ul><li>(5, <pyspark.resultiterable.ResultIterable object at 0x7fe6e807b2e8>)<li>(10, <pyspark.resultiterable.ResultIterable object at 0x7fe6e1b6a4a8>)</ul></td><td valign=\"bottom\" halign=\"left\"><ul><li>(11, <pyspark.resultiterable.ResultIterable object at 0x7fe6e1b6ae48>)<li>(6, <pyspark.resultiterable.ResultIterable object at 0x7fe6e1b6a5c0>)</ul></td><td valign=\"bottom\" halign=\"left\"><ul><li>(7, <pyspark.resultiterable.ResultIterable object at 0x7fe6e1b6ab00>)<li>(12, <pyspark.resultiterable.ResultIterable object at 0x7fe6e818e978>)</ul></td><td valign=\"bottom\" halign=\"left\"><ul><li>(8, <pyspark.resultiterable.ResultIterable object at 0x7fe6e1b6a4e0>)<li>(13, <pyspark.resultiterable.ResultIterable object at 0x7fe6e818e8d0>)</ul></td><td valign=\"bottom\" halign=\"left\"><ul><li>(4, <pyspark.resultiterable.ResultIterable object at 0x7fe6e818e748>)<li>(9, <pyspark.resultiterable.ResultIterable object at 0x7fe6e818e358>)<li>(14, <pyspark.resultiterable.ResultIterable object at 0x7fe6e818ea58>)</ul></td></table>"
      ],
      "text/plain": [
       "<__main__.DisplayRDD at 0x7fe6e818e6a0>"
      ]
     },
     "execution_count": 15,
     "metadata": {},
     "output_type": "execute_result"
    }
   ],
   "source": [
    "states3 = states2.groupByKey()\n",
    "DisplayRDD(states3)"
   ]
  },
  {
   "cell_type": "markdown",
   "metadata": {},
   "source": [
    "That looks weird... it seems to have done a group by, but we are missing the groups themselves. This is because the type of the value is a `pyspark.resultiterable.ResultIterable` which our DisplayRDD code does not translate into strings. We can fix that by converting the `values` to lists, and then doing DisplayRDD.\n",
    "\n",
    "**Note that this is a limitation of the HTML code that we generate above -- you don't have to do this in order to further process this RDD.**"
   ]
  },
  {
   "cell_type": "code",
   "execution_count": 16,
   "metadata": {},
   "outputs": [
    {
     "data": {
      "text/html": [
       "<table style=\"border: 1px\"><tr><th>Partition 0<th>Partition 1<th>Partition 2<th>Partition 3<th>Partition 4</tr><tr><td><ul><li>(5, ['Maine', 'Idaho', 'Texas'])<li>(10, ['New Jersey', 'New Mexico', 'Washington', 'California'])</ul></td><td valign=\"bottom\" halign=\"left\"><ul><li>(11, ['Mississippi', 'Connecticut'])<li>(6, ['Hawaii', 'Alaska', 'Oregon', 'Nevada', 'Kansas'])</ul></td><td valign=\"bottom\" halign=\"left\"><ul><li>(7, ['Indiana', 'Georgia', 'Wyoming', 'Alabama', 'Arizona', 'Florida', 'Vermont', 'Montana'])<li>(12, ['North Dakota', 'Rhode Island', 'South Dakota', 'Pennsylvania'])</ul></td><td valign=\"bottom\" halign=\"left\"><ul><li>(8, ['Arkansas', 'Maryland', 'Michigan', 'New York', 'Nebraska', 'Delaware', 'Missouri', 'Colorado', 'Oklahoma', 'Virginia', 'Kentucky', 'Illinois'])<li>(13, ['New Hampshire', 'Massachusetts', 'West Virginia'])</ul></td><td valign=\"bottom\" halign=\"left\"><ul><li>(4, ['Utah', 'Iowa', 'Ohio'])<li>(9, ['Wisconsin', 'Tennessee', 'Louisiana', 'Minnesota'])<li>(14, ['South Carolina', 'North Carolina'])</ul></td></table>"
      ],
      "text/plain": [
       "<__main__.DisplayRDD at 0x7fe6e818e2e8>"
      ]
     },
     "execution_count": 16,
     "metadata": {},
     "output_type": "execute_result"
    }
   ],
   "source": [
    "DisplayRDD(states3.mapValues(list))"
   ]
  },
  {
   "cell_type": "markdown",
   "metadata": {},
   "source": [
    "There it goes. Now we can see that the operation properly grouped together the state names by their lengths. This operation required a `shuffle` since originally all names with length, say 10, were all over the place.\n",
    "\n",
    "`groupByKey` does not reduce the size of the RDD. If we were interested in `counting` the number of states with a given length (i.e., a `group by count` query), we can use `reduceByKey` instead. However that requires us to do a map first."
   ]
  },
  {
   "cell_type": "code",
   "execution_count": 17,
   "metadata": {
    "scrolled": true
   },
   "outputs": [
    {
     "data": {
      "text/html": [
       "<table style=\"border: 1px\"><tr><th>Partition 0<th>Partition 1<th>Partition 2<th>Partition 3<th>Partition 4</tr><tr><td><ul><li>(8, 1)<li>(7, 1)<li>(11, 1)<li>(12, 1)<li>(4, 1)<li>(5, 1)<li>(13, 1)<li>(12, 1)<li>(9, 1)<li>(7, 1)<li>(8, 1)<li>(10, 1)<li>(14, 1)<li>(7, 1)</ul></td><td valign=\"bottom\" halign=\"left\"><ul><li>(7, 1)<li>(6, 1)<li>(13, 1)<li>(10, 1)<li>(12, 1)<li>(6, 1)<li>(5, 1)<li>(8, 1)<li>(8, 1)<li>(9, 1)<li>(7, 1)</ul></td><td valign=\"bottom\" halign=\"left\"><ul><li>(8, 1)<li>(6, 1)<li>(10, 1)<li>(8, 1)<li>(9, 1)<li>(6, 1)<li>(12, 1)<li>(13, 1)<li>(7, 1)</ul></td><td valign=\"bottom\" halign=\"left\"><ul><li>(10, 1)<li>(4, 1)<li>(8, 1)<li>(4, 1)<li>(7, 1)<li>(8, 1)<li>(6, 1)<li>(7, 1)<li>(8, 1)<li>(8, 1)<li>(11, 1)<li>(8, 1)</ul></td><td valign=\"bottom\" halign=\"left\"><ul><li>(8, 1)<li>(9, 1)<li>(14, 1)<li>(5, 1)</ul></td></table>"
      ],
      "text/plain": [
       "<__main__.DisplayRDD at 0x7fe6e8156160>"
      ]
     },
     "execution_count": 17,
     "metadata": {},
     "output_type": "execute_result"
    }
   ],
   "source": [
    "states4 = states2.mapValues(lambda x: 1)\n",
    "DisplayRDD(states4)"
   ]
  },
  {
   "cell_type": "markdown",
   "metadata": {},
   "source": [
    "`reduceByKey` takes in a single reduce function as the input which tells us what to do with any two values. In this case, we are simply going to use sum them up."
   ]
  },
  {
   "cell_type": "code",
   "execution_count": 18,
   "metadata": {},
   "outputs": [
    {
     "data": {
      "text/html": [
       "<table style=\"border: 1px\"><tr><th>Partition 0<th>Partition 1<th>Partition 2<th>Partition 3<th>Partition 4</tr><tr><td><ul><li>(5, 3)<li>(10, 4)</ul></td><td valign=\"bottom\" halign=\"left\"><ul><li>(11, 2)<li>(6, 5)</ul></td><td valign=\"bottom\" halign=\"left\"><ul><li>(7, 8)<li>(12, 4)</ul></td><td valign=\"bottom\" halign=\"left\"><ul><li>(8, 12)<li>(13, 3)</ul></td><td valign=\"bottom\" halign=\"left\"><ul><li>(4, 3)<li>(9, 4)<li>(14, 2)</ul></td></table>"
      ],
      "text/plain": [
       "<__main__.DisplayRDD at 0x7fe6e1b6d4e0>"
      ]
     },
     "execution_count": 18,
     "metadata": {},
     "output_type": "execute_result"
    }
   ],
   "source": [
    "DisplayRDD(states4.reduceByKey(lambda v1, v2: v1 + v2))"
   ]
  },
  {
   "cell_type": "markdown",
   "metadata": {},
   "source": [
    "These operations could be done faster through using `aggregateByKey`, but the syntax takes some getting used to. `aggregateByKey` takes a `start` value, a function that tells it what to do for a given element in the RDD, and another reduce function. "
   ]
  },
  {
   "cell_type": "code",
   "execution_count": 19,
   "metadata": {},
   "outputs": [
    {
     "data": {
      "text/html": [
       "<table style=\"border: 1px\"><tr><th>Partition 0<th>Partition 1<th>Partition 2<th>Partition 3<th>Partition 4</tr><tr><td><ul><li>(5, 3)<li>(10, 4)</ul></td><td valign=\"bottom\" halign=\"left\"><ul><li>(11, 2)<li>(6, 5)</ul></td><td valign=\"bottom\" halign=\"left\"><ul><li>(7, 8)<li>(12, 4)</ul></td><td valign=\"bottom\" halign=\"left\"><ul><li>(8, 12)<li>(13, 3)</ul></td><td valign=\"bottom\" halign=\"left\"><ul><li>(4, 3)<li>(9, 4)<li>(14, 2)</ul></td></table>"
      ],
      "text/plain": [
       "<__main__.DisplayRDD at 0x7fe6e8105a58>"
      ]
     },
     "execution_count": 19,
     "metadata": {},
     "output_type": "execute_result"
    }
   ],
   "source": [
    "DisplayRDD(states2.aggregateByKey(0, lambda k, v: k+1, lambda v1, v2: v1+v2))"
   ]
  },
  {
   "cell_type": "markdown",
   "metadata": {},
   "source": [
    "### Basics 2: FlatMap\n",
    "\n",
    "Unlike a `map`, the function used for `flatMap` returns a list -- this is used to allow for the possibility that we will generate different numbers of outputs for different elements. Here is an example where we split each string in `states_rdd` into multiple substrings.\n",
    "\n",
    "The lambda function below splits a string into chunks of size 5: so 'South Dakota' gets split into 'South', ' Dako', 'ta', and so on. The lambda function itself returns a list. If you try this with 'map' the result would not be the same."
   ]
  },
  {
   "cell_type": "code",
   "execution_count": 20,
   "metadata": {},
   "outputs": [
    {
     "data": {
      "text/html": [
       "<table style=\"border: 1px\"><tr><th>Partition 0<th>Partition 1<th>Partition 2<th>Partition 3<th>Partition 4</tr><tr><td><ul><li>Arkan<li>sas<li>India<li>na<li>Missi<li>ssipp<li>i<li>North<li> Dako<li>ta<li>Utah<li>Maine<li>New H<li>ampsh<li>ire<li>Rhode<li> Isla<li>nd<li>Wisco<li>nsin<li>Georg<li>ia<li>Maryl<li>and<li>New J<li>ersey<li>South<li> Caro<li>lina<li>Wyomi<li>ng</ul></td><td valign=\"bottom\" halign=\"left\"><ul><li>Alaba<li>ma<li>Hawai<li>i<li>Massa<li>chuse<li>tts<li>New M<li>exico<li>South<li> Dako<li>ta<li>Alask<li>a<li>Idaho<li>Michi<li>gan<li>New Y<li>ork<li>Tenne<li>ssee<li>Arizo<li>na</ul></td><td valign=\"bottom\" halign=\"left\"><ul><li>Nebra<li>ska<li>Orego<li>n<li>Washi<li>ngton<li>Delaw<li>are<li>Louis<li>iana<li>Nevad<li>a<li>Penns<li>ylvan<li>ia<li>West <li>Virgi<li>nia<li>Flori<li>da</ul></td><td valign=\"bottom\" halign=\"left\"><ul><li>Calif<li>ornia<li>Iowa<li>Misso<li>uri<li>Ohio<li>Vermo<li>nt<li>Color<li>ado<li>Kansa<li>s<li>Monta<li>na<li>Oklah<li>oma<li>Virgi<li>nia<li>Conne<li>cticu<li>t<li>Kentu<li>cky</ul></td><td valign=\"bottom\" halign=\"left\"><ul><li>Illin<li>ois<li>Minne<li>sota<li>North<li> Caro<li>lina<li>Texas</ul></td></table>"
      ],
      "text/plain": [
       "<__main__.DisplayRDD at 0x7fe6e81052e8>"
      ]
     },
     "execution_count": 20,
     "metadata": {},
     "output_type": "execute_result"
    }
   ],
   "source": [
    "DisplayRDD(states_rdd.flatMap(lambda x: [str(x[i:i+5]) for i in range(0, len(x), 5)]))"
   ]
  },
  {
   "cell_type": "markdown",
   "metadata": {},
   "source": [
    "### Basics 3: Joins\n",
    "\n",
    "Finally, lets look at an example of joins. We will still use small RDDs, but we now need two of them. We will just use `sc.parallelize` to create those RDDs. That functions takes in a list and creates an RDD of that by creating partitions and splitting them across machines. It takes the number of partitions as the second argument (optional).\n",
    "\n",
    "Note again that Spark made no attempt to co-locate the objects (i.e., the tuples) with the same key."
   ]
  },
  {
   "cell_type": "code",
   "execution_count": 21,
   "metadata": {},
   "outputs": [
    {
     "data": {
      "text/html": [
       "<table style=\"border: 1px\"><tr><th>Partition 0<th>Partition 1<th>Partition 2</tr><tr><td><ul><li>('alpha', 1)</ul></td><td valign=\"bottom\" halign=\"left\"><ul><li>('beta', 2)<li>('gamma', 3)</ul></td><td valign=\"bottom\" halign=\"left\"><ul><li>('alpha', 5)<li>('beta', 6)</ul></td></table>"
      ],
      "text/plain": [
       "<__main__.DisplayRDD at 0x7fe6e8156400>"
      ]
     },
     "execution_count": 21,
     "metadata": {},
     "output_type": "execute_result"
    }
   ],
   "source": [
    "rdd1 = sc.parallelize([('alpha', 1), ('beta', 2), ('gamma', 3), ('alpha', 5), ('beta', 6)], 3)\n",
    "DisplayRDD(rdd1)"
   ]
  },
  {
   "cell_type": "code",
   "execution_count": 22,
   "metadata": {},
   "outputs": [
    {
     "data": {
      "text/html": [
       "<table style=\"border: 1px\"><tr><th>Partition 0<th>Partition 1<th>Partition 2</tr><tr><td><ul><li>('alpha', 'South Dakota')</ul></td><td valign=\"bottom\" halign=\"left\"><ul><li>('beta', 'North Dakota')</ul></td><td valign=\"bottom\" halign=\"left\"><ul><li>('zeta', 'Maryland')<li>('beta', 'Washington')</ul></td></table>"
      ],
      "text/plain": [
       "<__main__.DisplayRDD at 0x7fe6e1b6df28>"
      ]
     },
     "execution_count": 22,
     "metadata": {},
     "output_type": "execute_result"
    }
   ],
   "source": [
    "rdd2 = sc.parallelize([('alpha', 'South Dakota'), ('beta', 'North Dakota'), ('zeta', 'Maryland'), ('beta', 'Washington')], 3)\n",
    "DisplayRDD(rdd2)"
   ]
  },
  {
   "cell_type": "markdown",
   "metadata": {},
   "source": [
    "Here is the definition of join from the programming guide.\n",
    "```\n",
    "When called on datasets of type (K, V) and (K, W), returns a dataset of (K, (V, W)) pairs with all pairs of elements for each key. Outer joins are supported through leftOuterJoin, rightOuterJoin, and fullOuterJoin. \n",
    "```\n",
    "We want to join on the first attributes, so we can just call join directly, otherwise a map may have been required."
   ]
  },
  {
   "cell_type": "code",
   "execution_count": 23,
   "metadata": {},
   "outputs": [
    {
     "data": {
      "text/html": [
       "<table style=\"border: 1px\"><tr><th>Partition 0<th>Partition 1<th>Partition 2<th>Partition 3<th>Partition 4<th>Partition 5</tr><tr><td><ul><li></ul></td><td valign=\"bottom\" halign=\"left\"><ul><li></ul></td><td valign=\"bottom\" halign=\"left\"><ul><li></ul></td><td valign=\"bottom\" halign=\"left\"><ul><li></ul></td><td valign=\"bottom\" halign=\"left\"><ul><li></ul></td><td valign=\"bottom\" halign=\"left\"><ul><li>('alpha', (1, 'South Dakota'))<li>('alpha', (5, 'South Dakota'))<li>('beta', (2, 'North Dakota'))<li>('beta', (2, 'Washington'))<li>('beta', (6, 'North Dakota'))<li>('beta', (6, 'Washington'))</ul></td></table>"
      ],
      "text/plain": [
       "<__main__.DisplayRDD at 0x7fe6e1b6df60>"
      ]
     },
     "execution_count": 23,
     "metadata": {},
     "output_type": "execute_result"
    }
   ],
   "source": [
    "rdd3 = rdd1.join(rdd2)\n",
    "DisplayRDD(rdd3)"
   ]
  },
  {
   "cell_type": "markdown",
   "metadata": {},
   "source": [
    "There is a bunch of empty partitions. We could have controlled the number of partitions with an optional argument to join. But in any case, the output looks like what we were trying to do. Using `outerjoins` behaves as you would expect, with two extra tuples for fullOuterJoin."
   ]
  },
  {
   "cell_type": "code",
   "execution_count": 24,
   "metadata": {},
   "outputs": [
    {
     "data": {
      "text/html": [
       "<table style=\"border: 1px\"><tr><th>Partition 0<th>Partition 1<th>Partition 2<th>Partition 3<th>Partition 4<th>Partition 5</tr><tr><td><ul><li></ul></td><td valign=\"bottom\" halign=\"left\"><ul><li>('zeta', (None, 'Maryland'))</ul></td><td valign=\"bottom\" halign=\"left\"><ul><li></ul></td><td valign=\"bottom\" halign=\"left\"><ul><li>('gamma', (3, None))</ul></td><td valign=\"bottom\" halign=\"left\"><ul><li></ul></td><td valign=\"bottom\" halign=\"left\"><ul><li>('alpha', (1, 'South Dakota'))<li>('alpha', (5, 'South Dakota'))<li>('beta', (2, 'North Dakota'))<li>('beta', (2, 'Washington'))<li>('beta', (6, 'North Dakota'))<li>('beta', (6, 'Washington'))</ul></td></table>"
      ],
      "text/plain": [
       "<__main__.DisplayRDD at 0x7fe6e1b6a7f0>"
      ]
     },
     "execution_count": 24,
     "metadata": {},
     "output_type": "execute_result"
    }
   ],
   "source": [
    "DisplayRDD(rdd1.fullOuterJoin(rdd2))"
   ]
  },
  {
   "cell_type": "markdown",
   "metadata": {},
   "source": [
    "`cogroup` is a related function, but basically creates two lists with each key. The `value` in that case is more complex, and our code above can't handle it. As we can see, there is a single object corresponding to each key, and the values are basically a pair of `iterables`."
   ]
  },
  {
   "cell_type": "code",
   "execution_count": 25,
   "metadata": {},
   "outputs": [
    {
     "data": {
      "text/html": [
       "<table style=\"border: 1px\"><tr><th>Partition 0<th>Partition 1<th>Partition 2<th>Partition 3<th>Partition 4<th>Partition 5</tr><tr><td><ul><li></ul></td><td valign=\"bottom\" halign=\"left\"><ul><li>('zeta', (<pyspark.resultiterable.ResultIterable object at 0x7fe6e811d160>, <pyspark.resultiterable.ResultIterable object at 0x7fe6e811d1d0>))</ul></td><td valign=\"bottom\" halign=\"left\"><ul><li></ul></td><td valign=\"bottom\" halign=\"left\"><ul><li>('gamma', (<pyspark.resultiterable.ResultIterable object at 0x7fe6e811dcc0>, <pyspark.resultiterable.ResultIterable object at 0x7fe6e80fb8d0>))</ul></td><td valign=\"bottom\" halign=\"left\"><ul><li></ul></td><td valign=\"bottom\" halign=\"left\"><ul><li>('alpha', (<pyspark.resultiterable.ResultIterable object at 0x7fe6e811d198>, <pyspark.resultiterable.ResultIterable object at 0x7fe6e80fb780>))<li>('beta', (<pyspark.resultiterable.ResultIterable object at 0x7fe6e80fbcc0>, <pyspark.resultiterable.ResultIterable object at 0x7fe6e80fb4a8>))</ul></td></table>"
      ],
      "text/plain": [
       "<__main__.DisplayRDD at 0x7fe6e811da90>"
      ]
     },
     "execution_count": 25,
     "metadata": {},
     "output_type": "execute_result"
    }
   ],
   "source": [
    "DisplayRDD(rdd1.cogroup(rdd2))"
   ]
  },
  {
   "cell_type": "markdown",
   "metadata": {},
   "source": [
    "### Basics 4\n",
    "\n",
    "Here we show a `word count` example using another file `play.txt`. You can use the DisplayRDD function here, but the output is rather large."
   ]
  },
  {
   "cell_type": "code",
   "execution_count": 28,
   "metadata": {},
   "outputs": [],
   "source": [
    "textFile = sc.textFile(\"play.txt\", 10)"
   ]
  },
  {
   "cell_type": "code",
   "execution_count": 29,
   "metadata": {},
   "outputs": [
    {
     "data": {
      "text/plain": [
       "3684"
      ]
     },
     "execution_count": 29,
     "metadata": {},
     "output_type": "execute_result"
    }
   ],
   "source": [
    "textFile.count()"
   ]
  },
  {
   "cell_type": "code",
   "execution_count": 30,
   "metadata": {},
   "outputs": [
    {
     "data": {
      "text/plain": [
       "['ACT I',\n",
       " \"SCENE I. Before LEONATO'S house.\",\n",
       " '/Enter LEONATO, HERO, and BEATRICE, with a Messenger/ ',\n",
       " '*LEONATO*',\n",
       " 'I learn in this letter that Don Peter of Arragon']"
      ]
     },
     "execution_count": 30,
     "metadata": {},
     "output_type": "execute_result"
    }
   ],
   "source": [
    "textFile.take(5)"
   ]
  },
  {
   "cell_type": "markdown",
   "metadata": {},
   "source": [
    "The following command does a word count, by first separating out the words using a `flatMap`, and then using a `reduceByKey`."
   ]
  },
  {
   "cell_type": "code",
   "execution_count": 31,
   "metadata": {},
   "outputs": [
    {
     "data": {
      "text/html": [
       "<table style=\"border: 1px\"><tr><th>Partition 0<th>Partition 1<th>Partition 2<th>Partition 3<th>Partition 4<th>Partition 5<th>Partition 6<th>Partition 7<th>Partition 8<th>Partition 9</tr><tr><td><ul><li>('', 17)<li>('of', 347)<li>('*Messenger*', 17)<li>('is', 261)<li>('near', 7)<li>('was', 48)<li>('have', 158)<li>('sort,', 1)<li>('none', 8)<li>('honour', 3)<li>('Pedro:', 1)<li>('borne', 1)<li>('beyond', 1)<li>('feats', 1)<li>('than', 46)<li>('an', 77)<li>('letters,', 1)<li>('appears', 5)<li>('him;', 8)<li>('bitterness.', 1)<li>('measure.', 1)<li>('no', 85)<li>('at', 52)<li>('returned;', 1)<li>('flight;', 1)<li>('Cupid,', 1)<li>('tax', 2)<li>('much;', 1)<li>('victual,', 1)<li>('it:', 6)<li>('soldier', 2)<li>('lady.', 8)<li>('honourable', 6)<li>('mistake', 1)<li>('never', 34)<li>('four', 2)<li>('wits', 2)<li>('bear', 10)<li>('wealth', 1)<li>('companion', 1)<li>('brother.', 4)<li>('possible?', 2)<li>('Very', 3)<li>('hat;', 1)<li>('would', 81)<li>('voyage', 1)<li>('right', 11)<li>('O', 19)<li>('pestilence,', 1)<li>('help', 5)<li>('Claudio!', 1)<li>('thousand', 10)<li>('Do,', 2)<li>('friend.', 2)<li>('run', 3)<li>('till', 21)<li>('grace:', 1)<li>('happiness', 2)<li>('think', 40)<li>('Her', 2)<li>('lady;', 4)<li>('her', 150)<li>('head', 4)<li>('talking,', 1)<li>('nobody', 1)<li>('living?', 1)<li>('die', 9)<li>('truly,', 6)<li>('rather', 12)<li>('yours', 4)<li>('tongue,', 2)<li>(\"God's\", 6)<li>('done.', 2)<li>('us', 22)<li>('reconciled', 1)<li>('on?', 2)<li>('looked', 3)<li>('Do', 10)<li>('true', 10)<li>('judgment.', 1)<li>('high', 3)<li>('Thou', 12)<li>('put', 11)<li>('fury,', 1)<li>('doth', 21)<li>('December.', 1)<li>('husband,', 4)<li>('scarce', 1)<li>('though', 13)<li>('thy', 50)<li>('away', 8)<li>('Sundays.', 1)<li>('this,', 8)<li>('uttered.', 1)<li>('two', 15)<li>('beauty.', 1)<li>('invisible', 1)<li>('look', 14)<li>('hunger,', 1)<li>('eyes', 3)<li>('Adam.', 1)<li>('The', 37)<li>('may;', 2)<li>('sensible', 2)<li>('pluck', 2)<li>('painted,', 1)<li>(\"man.'\", 1)<li>('wouldst', 4)<li>('quiver', 1)<li>('Venice,', 1)<li>('temporize', 1)<li>('loving', 5)<li>('mock', 3)<li>('leave', 12)<li>('good.', 2)<li>('shalt', 4)<li>('onward', 1)<li>('eye,', 2)<li>('hearer', 1)<li>(\"Was't\", 1)<li>(\"began'st\", 1)<li>('minister', 2)<li>('treatise.', 1)<li>('fairest', 2)<li>('fit:', 1)<li>('tale:', 1)<li>('ANTONIO,', 5)<li>('alley', 2)<li>('thus', 10)<li>('send', 8)<li>('prepared', 1)<li>('why', 7)<li>('sayest', 1)<li>('goest', 1)<li>('am:', 1)<li>('drowsy', 2)<li>('business,', 2)<li>('weather', 1)<li>('hedge', 1)<li>('said', 14)<li>('cage.', 1)<li>('liking:', 1)<li>('only.', 1)<li>('fool', 5)<li>('perfumer,', 1)<li>('arras;', 1)<li>('me?', 10)<li>('death,', 1)<li>('lordship.', 1)<li>('Was', 2)<li>('heart-burned', 1)<li>('eldest', 1)<li>('tattling.', 1)<li>(\"horns;'\", 1)<li>('horns.', 1)<li>('Just,', 1)<li>('husband;', 1)<li>('knees', 2)<li>('husband', 5)<li>('lie', 7)<li>('woollen.', 1)<li>('him:', 5)<li>('therefore,', 2)<li>('apes', 1)<li>('gate;', 1)<li>('cuckold,', 1)<li>(\"'Get\", 1)<li>(\"cousin's\", 3)<li>('metal', 1)<li>('clod', 1)<li>('Daughter,', 1)<li>('solicit', 1)<li>('fantastical;', 1)<li>('/All', 1)<li>('BORACHIO,', 2)<li>('MARGARET,', 5)<li>('masked/', 2)<li>('Lady,', 5)<li>('especially', 2)<li>('defend', 3)<li>('/Drawing', 1)<li>('aside/', 1)<li>('prayers', 1)<li>(\"'Hundred\", 1)<li>(\"prince's\", 14)<li>('jester:', 1)<li>('pleases', 2)<li>('strikes', 1)<li>('melancholy;', 1)<li>('ill,', 1)<li>('too;', 2)<li>('ears', 2)<li>('charms', 1)<li>('proof,', 2)<li>('mistrusted', 1)<li>('Hero.', 6)<li>('thus?', 1)<li>('meat,', 1)<li>('poor', 10)<li>('fowl!', 1)<li>('garland,', 1)<li>('forsaken,', 1)<li>('whipped.', 1)<li>('transgression', 2)<li>('singing', 1)<li>('quarrel', 4)<li>('danced', 1)<li>('green', 1)<li>('answered', 1)<li>('conveyance', 1)<li>('terrible', 1)<li>('terminations,', 1)<li>('before', 15)<li>('Hercules', 3)<li>('purpose,', 2)<li>('follows', 1)<li>('furthest', 1)<li>('Asia,', 1)<li>('bring', 10)<li>('Pigmies,', 1)<li>('None,', 3)<li>('Tongue.', 1)<li>('lent', 2)<li>('sent', 4)<li>('count', 4)<li>('something', 1)<li>('joy!', 2)<li>('match,', 3)<li>('keeps', 1)<li>('tells', 4)<li>(\"ne'er\", 2)<li>('costly', 1)<li>('silence', 1)<li>('hour.', 1)<li>(\"There's\", 3)<li>('laughing.', 1)<li>('brief,', 2)<li>('interim', 1)<li>('direction.', 1)<li>('watchings.', 1)<li>('strain,', 2)<li>('quick', 2)<li>('cross,', 1)<li>('medicinable', 1)<li>('year', 1)<li>('remember.', 1)<li>('unseasonable', 1)<li>('instant', 2)<li>('renowned', 1)<li>('vex', 1)<li>('dedicates', 1)<li>('shallow', 2)<li>('mile', 1)<li>('fantastical', 1)<li>('Rich', 1)<li>('discourse,', 1)<li>('God.', 1)<li>('excellency', 1)<li>('thinks', 4)<li>('sea', 2)<li>('nonny.', 1)<li>('ditties,', 1)<li>('heavy;', 1)<li>('leafy:', 1)<li>('Sits', 1)<li>('she?', 1)<li>('she,', 10)<li>('scorn,', 1)<li>(\"him,'\", 1)<li>('should,', 1)<li>('combating', 1)<li>('surely', 2)<li>('well:', 1)<li>('wise;', 1)<li>('do;', 1)<li>('[Coming', 2)<li>('requited.', 1)<li>('proudly,', 1)<li>('fair;', 1)<li>('remnants', 1)<li>('day!', 1)<li>('point', 2)<li>('parlor;', 1)<li>('bower,', 1)<li>('princes,', 2)<li>('bred', 1)<li>('purpose.', 1)<li>('Bear', 1)<li>('arrow', 1)<li>('Cut', 1)<li>('treacherous', 1)<li>('woodbine', 1)<li>('dialogue.', 1)<li>('bait', 1)<li>('/Approaching', 1)<li>('spirits', 4)<li>('haggerds', 1)<li>('Disdain', 1)<li>('sister;', 1)<li>('black,', 2)<li>('blot;', 1)<li>('winds;', 1)<li>('simpleness', 1)<li>('Consume', 1)<li>('passion.', 1)<li>('with:', 1)<li>('empoison', 1)<li>('proves', 1)<li>('Contempt,', 1)<li>('maiden', 3)<li>('incite', 1)<li>('Believe', 1)<li>('soil', 1)<li>('touched', 1)<li>('afterwards.', 2)<li>('appearance', 1)<li>('fancy', 3)<li>('Frenchman', 1)<li>('countries', 1)<li>('waist', 1)<li>('upward,', 1)<li>('hath,', 1)<li>('face?', 1)<li>('stops.', 1)<li>('aside', 1)<li>('ensuing', 1)<li>('talking', 1)<li>('Disloyal?', 1)<li>('warrant:', 1)<li>('wed', 1)<li>('confess', 2)<li>('to-night', 2)<li>('obtain', 1)<li>('suffer', 4)<li>('Seacole.', 1)<li>('watchman;', 1)<li>('us?', 1)<li>('wake', 3)<li>('crying;', 1)<li>('two,', 1)<li>('elbow.', 1)<li>('tale.', 2)<li>('sometimes', 1)<li>('painting,', 1)<li>('church-window,', 1)<li>('oaths,', 1)<li>('there,', 2)<li>('lechery', 1)<li>('obey', 2)<li>('apartment.', 1)<li>('fashion,', 2)<li>('laced', 1)<li>('honourably?', 1)<li>('beggar?', 1)<li>('wrest', 1)<li>('enough,', 3)<li>('construction!', 1)<li>('tis', 1)<li>('cold.', 1)<li>('sick.', 1)<li>('Get', 1)<li>('qualm.', 1)<li>('thistle.', 1)<li>('Benedictus.', 1)<li>('Ursula.', 1)<li>('Brief,', 1)<li>('excepting', 1)<li>('suffigance.', 1)<li>('IV', 1)<li>('FRANCIS,', 2)<li>('Francis,', 1)<li>('particular', 2)<li>('duties', 1)<li>('laughing,', 1)<li>('ah,', 1)<li>('by,', 1)<li>('free', 1)<li>('back,', 1)<li>('gift?', 1)<li>('again:', 1)<li>('orange', 1)<li>('Behold', 1)<li>('authority', 1)<li>('defeat', 1)<li>('Bashful', 1)<li>('speak?', 1)<li>('language', 1)<li>('Without', 1)<li>('About', 1)<li>('heart!', 2)<li>('lock', 2)<li>('hang,', 1)<li>('gracious.', 1)<li>('things,', 1)<li>('lovely', 2)<li>('charitable', 1)<li>('ribs', 1)<li>('princes', 3)<li>('fortune.', 1)<li>('blushing', 1)<li>('innocent', 7)<li>(\"appear'd\", 1)<li>('observations,', 1)<li>('biting', 1)<li>('be.', 1)<li>('unmeet,', 1)<li>('strength', 1)<li>('policy', 1)<li>('dead:', 2)<li>('carried', 1)<li>('good:', 1)<li>('prize', 1)<li>('liver,', 1)<li>('accusation', 1)<li>('religious', 1)<li>('minds', 1)<li>('deal', 2)<li>('live:', 1)<li>('reason;', 1)<li>('strange?', 1)<li>('protest', 3)<li>('hour:', 1)<li>('testimony,', 1)<li>('courtesies,', 1)<li>('Use', 1)<li>('Enough,', 1)<li>('gowns;', 1)<li>('stool', 1)<li>('hope.', 1)<li>('aside.', 1)<li>(\"'Fore\", 1)<li>('gowns', 1)<li>('ANTONIO/', 3)<li>('gather', 1)<li>('patience.', 2)<li>('peace.', 1)<li>('However', 1)<li>('style', 1)<li>('yourself;', 2)<li>('trial', 1)<li>('belied', 2)<li>('hers,', 1)<li>('right,', 2)<li>('bloom', 1)<li>('foining', 1)<li>('Content', 1)<li>('dead,', 3)<li>('tongue:', 1)<li>('snapped', 1)<li>('beaten', 3)<li>('courage,', 1)<li>('too?', 1)<li>('gross', 1)<li>('morning;', 1)<li>('yet,', 3)<li>('dearly:', 1)<li>('all;', 1)<li>('gossip-like', 1)<li>('peace', 1)<li>('ape', 1)<li>('fled?', 1)<li>('Hearken', 1)<li>('offence?', 1)<li>('discover,', 1)<li>('disgraced', 1)<li>('record;', 1)<li>('serve,', 1)<li>('Sexton/', 1)<li>('thyself:', 1)<li>('bravely', 1)<li>('done,', 1)<li>('penance', 1)<li>('invention', 1)<li>('son-in-law,', 1)<li>('punishment.', 1)<li>('Deformed:', 1)<li>('sake:', 1)<li>('reverend', 2)<li>('prisoner,', 1)<li>('prohibit', 1)<li>('stairs?', 1)<li>('catches.', 1)<li>('hit,', 1)<li>('pikes', 1)<li>('Leander', 1)<li>('self', 1)<li>('rhyme', 1)<li>('rhyming', 1)<li>('planet,', 1)<li>('thee?', 1)<li>(\"'Then'\", 1)<li>('words;', 1)<li>('frighted', 1)<li>('sense,', 1)<li>('shortly', 1)<li>('hates.', 1)<li>('peaceably.', 1)<li>('old,', 1)<li>('instance,', 1)<li>('Question:', 1)<li>('ill.', 1)<li>(\"Yonder's\", 1)<li>('tapers/', 1)<li>('[Reading', 1)<li>('Gives', 1)<li>('Round', 1)<li>('heavily:', 1)<li>('rite.', 1)<li>('Thanks', 1)<li>('URSULA,', 1)<li>('innocent?', 1)<li>('debated:', 1)<li>('enforced', 1)<li>('favour.', 1)<li>('will?', 2)<li>('storm', 1)<li>('bleat.', 1)<li>('Ladies', 1)<li>('seize', 1)<li>('persuasion;', 1)<li>('consumption.', 1)<li>('college', 1)<li>('cudgelled', 1)<li>('friends:', 1)</ul></td><td valign=\"bottom\" halign=\"left\"><ul><li>('and', 497)<li>('Peter', 3)<li>('by', 75)<li>('leagues', 1)<li>('you', 363)<li>('any', 49)<li>('A', 29)<li>('victory', 1)<li>('itself', 8)<li>('here', 25)<li>('much', 30)<li>('Claudio.', 11)<li>('uncle', 3)<li>('glad', 3)<li>('enough', 8)<li>('faces', 1)<li>('for,', 9)<li>('My', 21)<li>('cousin', 13)<li>(\"he's\", 1)<li>('pleasant', 1)<li>('bills', 2)<li>('how', 38)<li>('wars?', 1)<li>('eat', 9)<li>('niece,', 4)<li>(\"he'll\", 4)<li>('done', 2)<li>('lady,', 12)<li>('lord?', 5)<li>('not,', 8)<li>('wit', 15)<li>('Alas!', 1)<li>('five', 2)<li>('difference', 1)<li>('wears', 4)<li>('No;', 5)<li>('were,', 1)<li>('most', 23)<li>('friends', 3)<li>('Leonato,', 8)<li>('cost,', 1)<li>('comfort', 3)<li>('me,', 35)<li>('embrace', 3)<li>('mother', 3)<li>('asked', 1)<li>('were', 48)<li>('dear', 7)<li>('disdain', 1)<li>('heart;', 1)<li>('else', 5)<li>('predestinate', 1)<li>('tongue', 5)<li>('old.', 2)<li>('all,', 7)<li>('invited', 1)<li>('month;', 1)<li>('prays', 2)<li>('heart.', 4)<li>('/To', 1)<li>('lead', 4)<li>('hand,', 7)<li>('note', 5)<li>('lady?', 4)<li>('sober', 1)<li>('likest', 1)<li>('inquire', 1)<li>('case', 1)<li>('carpenter?', 1)<li>('Come,', 28)<li>('spectacles', 1)<li>('matter:', 5)<li>('Shall', 9)<li>('thrust', 1)<li>(\"Leonato's?\", 1)<li>('is;--With', 1)<li>(\"so.'\", 1)<li>('By', 18)<li>('which', 36)<li>('bachelor.', 1)<li>('prove', 7)<li>('blood', 8)<li>('Cupid.', 1)<li>(\"'In\", 1)<li>('horns', 4)<li>('write', 12)<li>('happen,', 1)<li>('quake', 1)<li>('almost', 5)<li>('tuition', 1)<li>('teach', 3)<li>('how,', 2)<li>(\"look'd\", 1)<li>('liked,', 1)<li>('places', 1)<li>('lover', 1)<li>('revelling', 1)<li>(\"I'll\", 30)<li>('prisoner', 1)<li>('practise', 4)<li>('busy', 3)<li>('good?', 1)<li>('yourself.', 3)<li>('acquaint', 2)<li>('Attendants/', 2)<li>('care', 5)<li>('III.', 4)<li>('JOHN', 3)<li>('lord!', 2)<li>('stomach', 1)<li>('needful', 1)<li>('harvest.', 1)<li>('carriage', 1)<li>('bite;', 1)<li>('entertained', 2)<li>('Even', 4)<li>('he?', 4)<li>('bless', 2)<li>('subdued.', 1)<li>('hall', 1)<li>('tartly', 1)<li>(\"lady's\", 3)<li>('tongue.', 1)<li>('light', 2)<li>('apparel', 2)<li>('deliver', 1)<li>('curtsy', 2)<li>('sin', 4)<li>('Scotch', 2)<li>('jig,', 2)<li>('pace:', 1)<li>('legs,', 1)<li>('faster', 1)<li>('faster,', 1)<li>('grave.', 1)<li>('shrewdly.', 1)<li>('uncle;', 1)<li>('entering,', 1)<li>('lute', 1)<li>('visor', 4)<li>('within', 2)<li>('*BALTHASAR*', 11)<li>('one?', 4)<li>('cry,', 1)<li>('ill-well,', 1)<li>('itself?', 1)<li>('disdainful,', 1)<li>('enough.', 2)<li>('slanders:', 1)<li>('boarded', 1)<li>('follow', 5)<li>('Signior,', 1)<li>('dissuade', 1)<li>('affection.', 3)<li>('to-night.', 2)<li>(\"'Tis\", 7)<li>('tongues;', 1)<li>(\"lieutenant's\", 1)<li>('scarf?', 1)<li>(\"that's\", 11)<li>('sell', 1)<li>('strike', 1)<li>('stole', 1)<li>('be,', 5)<li>('revenged', 1)<li>('may.', 1)<li>('signior,', 5)<li>('Fame.', 1)<li>('him,', 14)<li>('sing,', 2)<li>('saying,', 1)<li>('endowed', 1)<li>('Adam', 1)<li>('cleft', 1)<li>('conference', 2)<li>('double', 3)<li>('dice,', 1)<li>('down,', 7)<li>('seek.', 2)<li>(\"I'\", 2)<li>('blazon', 1)<li>('true;', 1)<li>('marriage,', 2)<li>('daughter,', 3)<li>('fortunes:', 1)<li>('perfectest', 1)<li>('joy:', 1)<li>('yours:', 2)<li>('side', 3)<li>('corner', 1)<li>('you;', 5)<li>('cried;', 1)<li>('Niece,', 1)<li>('then;', 2)<li>('herself', 1)<li>('suit.', 1)<li>('church?', 1)<li>('Monday,', 1)<li>('seven-night;', 1)<li>('mind.', 3)<li>('dully', 1)<li>('honesty.', 2)<li>('drift.', 1)<li>('marriage?', 3)<li>('appoint', 1)<li>('Claudio--whose', 1)<li>('undo', 2)<li>('endeavour', 1)<li>('cozened', 1)<li>('offer', 1)<li>('likelihood', 1)<li>('Margaret', 7)<li>(\"Hero's\", 6)<li>('disloyalty', 1)<li>('cunning', 4)<li>('follies', 1)<li>('argument', 3)<li>('failing', 1)<li>('armour;', 1)<li>('grace.', 1)<li>('mild,', 1)<li>('Love!', 1)<li>('evening', 1)<li>('pennyworth.', 1)<li>('song', 1)<li>('slander', 6)<li>('Or,', 1)<li>('notes;', 1)<li>('noting.', 1)<li>('nothing.', 2)<li>('divine', 1)<li>('go,', 3)<li>('blithe', 1)<li>('Into', 4)<li>('Sing', 1)<li>('&', 1)<li>('so:', 3)<li>('sits.', 1)<li>('enraged', 1)<li>('invincible', 1)<li>('white-bearded', 1)<li>('swears', 2)<li>(\"'Shall\", 1)<li>('over,', 1)<li>('tore', 1)<li>('knew', 6)<li>(\"'O\", 1)<li>('other,', 1)<li>('sport', 3)<li>('torment', 1)<li>('alms', 1)<li>('virtuous.', 1)<li>('proofs', 1)<li>('sorry', 6)<li>('bate', 1)<li>('mind,', 3)<li>('necessarily', 1)<li>('spread', 1)<li>(\"another's\", 1)<li>('borne.', 1)<li>('sentences', 1)<li>('awe', 1)<li>('spy', 1)<li>('come.', 2)<li>(\"'Against\", 1)<li>('oars', 1)<li>('greedily', 1)<li>('angle', 1)<li>('madam?', 2)<li>('persuaded', 1)<li>('Deserve', 1)<li>('bed', 1)<li>(\"woman's\", 1)<li>('sparkling', 1)<li>('weak:', 1)<li>('young,', 2)<li>('rarely', 1)<li>('spell', 1)<li>('Nature,', 1)<li>('ill-headed;', 1)<li>('fancy:', 1)<li>('in:', 1)<li>('furnish', 1)<li>('deserve,', 1)<li>('crown', 1)<li>('bow-string', 1)<li>('truant!', 1)<li>('worm.', 1)<li>('hip', 1)<li>('Unless', 1)<li>('foolery,', 1)<li>('tennis-balls.', 1)<li>('crept', 1)<li>('tale', 3)<li>('conclude', 1)<li>('nine', 1)<li>('wise', 5)<li>('parts', 3)<li>('meet.', 1)<li>('den,', 2)<li>('leisure', 1)<li>('hear;', 1)<li>('matter?', 2)<li>('impediment,', 1)<li>('shortened,', 1)<li>('*VERGES*', 18)<li>('neighbour', 4)<li>('favour,', 1)<li>('comprehend', 1)<li>('men;', 2)<li>('bidden,', 1)<li>('meddle', 2)<li>('not?', 2)<li>('alone', 2)<li>('defiled:', 1)<li>('constable,', 3)<li>('person:', 1)<li>('willing;', 1)<li>('ha,', 2)<li>('ha!', 1)<li>('door;', 1)<li>('coil', 2)<li>('pent-house,', 1)<li>('drizzles', 1)<li>('rich;', 1)<li>('art', 8)<li>('cloak,', 1)<li>('gentleman:', 1)<li>('fourteen', 1)<li>('thyself', 1)<li>('constable.', 2)<li>('forth,', 2)<li>('commodity', 1)<li>(\"HERO's\", 1)<li>(\"'s\", 2)<li>('heavier', 2)<li>('soon', 1)<li>('what,', 3)<li>('nobody:', 1)<li>('heavy:', 1)<li>('morrow,', 7)<li>('coz.', 1)<li>('tune?', 1)<li>(\"'Light\", 1)<li>('Ye', 1)<li>('trow?', 1)<li>('desire!', 1)<li>('stuffed,', 1)<li>('maid,', 4)<li>('Carduus', 1)<li>('withdraw:', 1)<li>('worship.', 2)<li>('tediousness', 1)<li>('persons,', 1)<li>('partner,', 1)<li>('do!', 3)<li>('daughter?', 2)<li>('Sweet', 6)<li>('virtue?', 1)<li>('exterior', 1)<li>('shows?', 1)<li>('Dear', 1)<li>('extenuate', 1)<li>('comely', 2)<li>(\"seem'd\", 1)<li>('animals', 1)<li>('gone', 2)<li>('stale.', 1)<li>('spoken,', 2)<li>('fatherly', 1)<li>('hour,', 1)<li>('secret.', 1)<li>('Thus,', 1)<li>('misgovernment.', 1)<li>('farewell,', 1)<li>('pure', 2)<li>('impious', 1)<li>('Help,', 1)<li>('Friar!', 1)<li>('ope', 1)<li>('frugal', 1)<li>(\"'No\", 1)<li>('wonder,', 1)<li>('angel', 1)<li>('Under', 1)<li>('modesty', 1)<li>('sins', 1)<li>('torture', 1)<li>('proudest', 1)<li>('Pause', 1)<li>('awhile,', 1)<li>('case.', 1)<li>('do?', 1)<li>(\"apparell'd\", 1)<li>('More', 1)<li>('false,', 1)<li>('conceal', 1)<li>('flow', 1)<li>('sword,', 1)<li>('devised', 1)<li>('enemy?', 1)<li>('rancour,', 1)<li>('princely', 1)<li>('Pray,', 1)<li>('Write', 3)<li>('examine:', 1)<li>('forth.', 1)<li>('perjury,', 1)<li>('received', 1)<li>('committed.', 1)<li>('everlasting', 1)<li>('manner', 2)<li>('Off,', 1)<li>('coxcomb!', 1)<li>('to;', 2)<li>('losses,', 1)<li>('V', 1)<li>('Measure', 1)<li>('thread,', 1)<li>('agony', 1)<li>('wring', 2)<li>(\"wrong'd\", 1)<li>('niece;', 1)<li>('Boys,', 1)<li>('Jacks,', 1)<li>('content.', 1)<li>('out-facing,', 1)<li>('boys,', 1)<li>('flout,', 1)<li>('hideousness,', 1)<li>('both,', 2)<li>('scabbard:', 1)<li>('career,', 1)<li>('girdle.', 1)<li>('cheer.', 1)<li>('wit:', 1)<li>(\"'Certain,'\", 1)<li>('head?', 1)<li>('blades,', 1)<li>('sincerely.', 1)<li>('giant', 1)<li>('be:', 1)<li>('justice', 1)<li>('hypocrite', 1)<li>('Borachio', 1)<li>('lying', 1)<li>('offence;', 1)<li>('committed;', 1)<li>('charge.', 1)<li>('suited.', 1)<li>('bound', 1)<li>('understood:', 1)<li>('fools', 1)<li>('light:', 1)<li>('whiles', 2)<li>('That,', 1)<li>('child?', 1)<li>('deeds:', 1)<li>('bethink', 1)<li>('died;', 1)<li>('epitaph', 1)<li>('copy', 1)<li>('revenge.', 1)<li>('wrong,', 1)<li>('point.', 1)<li>('youth;', 1)<li>('discharge', 1)<li>('/Exeunt,', 1)<li>('legs.', 1)<li>('employer', 1)<li>('blank', 1)<li>(\"'scorn,'\", 1)<li>('terms.', 1)<li>('maintained', 1)<li>('think;', 1)<li>('dies,', 1)<li>('widow', 1)<li>('conscience,', 1)<li>('virtues,', 1)<li>('witness,', 1)<li>('praiseworthy:', 1)<li>('Serve', 1)<li>('abused;', 1)<li>('Praising', 1)<li>('yawn', 1)<li>('question.', 1)<li>('February', 1)<li>('Jove,', 2)<li>(\"leap'd\", 1)<li>('reckonings.', 1)<li>('qualify:', 1)<li>('man?', 1)<li>('epigram?', 1)<li>('exceedingly', 1)<li>('tipped', 1)<li>('to-morrow:', 1)<li>('pipers.', 1)</ul></td><td valign=\"bottom\" halign=\"left\"><ul><li>('/Enter', 38)<li>('LEONATO,', 5)<li>('in', 279)<li>('this', 118)<li>('But', 41)<li>('equally', 1)<li>('age,', 2)<li>('expectation', 1)<li>('already', 3)<li>('badge', 1)<li>('out', 33)<li>('sort.', 1)<li>('niece?', 1)<li>('Benedick', 20)<li>('these', 20)<li>('meet', 12)<li>('And', 105)<li>('lord,', 29)<li>('indeed;', 5)<li>('we', 53)<li>('merry', 7)<li>('betwixt', 2)<li>(\"there's\", 12)<li>('them.', 7)<li>('now?', 4)<li>('month', 1)<li>('new', 5)<li>('possible:', 1)<li>('gentleman', 9)<li>('squarer', 1)<li>('noble', 7)<li>('caught', 3)<li>('PEDRO*', 135)<li>('encounter', 2)<li>('Never', 4)<li>('remain;', 1)<li>('willingly.', 1)<li>('happy,', 2)<li>('Leonato', 5)<li>('heart', 17)<li>('ladyship', 1)<li>('yours.', 2)<li>('sum', 1)<li>('occasion', 2)<li>('go', 34)<li>('daughter', 19)<li>('simple', 2)<li>('praise,', 1)<li>('commendation', 2)<li>('cousin,', 8)<li>('contrary,', 2)<li>('yoke,', 1)<li>('print', 1)<li>('tell.', 1)<li>('allegiance.', 2)<li>('Count', 14)<li>('allegiance,', 1)<li>('nor', 17)<li>('passion', 4)<li>('change', 3)<li>('feel.', 1)<li>('opinion', 2)<li>('cannot', 22)<li>('melt', 1)<li>('maintain', 1)<li>('will.', 5)<li>('Because', 2)<li>('myself', 8)<li>('love:', 7)<li>('drinking,', 1)<li>('dost', 8)<li>('savage', 5)<li>('signify', 1)<li>('repair', 1)<li>('commit', 1)<li>('God:', 2)<li>('July:', 1)<li>('Benedick.', 8)<li>('/Exit/', 11)<li>('thine', 3)<li>('war-thoughts', 1)<li>('thronging', 1)<li>('complexion!', 1)<li>('longer', 4)<li>('grant', 1)<li>('to-night:', 2)<li>('bosom', 1)<li>('amorous', 2)<li>('father', 5)<li>('break;', 1)<li>('conclusion', 1)<li>('/Exeunt/', 13)<li>('II.', 5)<li>('room', 4)<li>('son?', 1)<li>('strange', 10)<li>('news', 2)<li>('niece', 3)<li>('use', 8)<li>('*CONRADE*', 23)<li>('heard', 10)<li>('being,', 1)<li>('medicine', 2)<li>('stood', 2)<li>('against', 13)<li>('disdained', 1)<li>('Borachio?', 1)<li>('supper:', 2)<li>('brother', 14)<li>('Will', 11)<li>(\"brother's\", 5)<li>('hand.', 2)<li>('proper', 4)<li>('way', 6)<li>('come,', 7)<li>('both', 6)<li>('evermore', 1)<li>(\"Benedick's\", 3)<li>('win', 1)<li>('world,', 1)<li>('cow', 2)<li>('evening.', 1)<li>('beard.', 2)<li>('him?', 4)<li>('heaven;', 1)<li>('heavens;', 1)<li>('bachelors', 1)<li>('long.', 1)<li>('that,', 7)<li>('Not', 11)<li>('overmastered', 1)<li>('state', 3)<li>('Cousin,', 1)<li>('apprehend', 1)<li>('masks/', 1)<li>('others,', 2)<li>('walk', 4)<li>('roof;', 1)<li>('sake;', 1)<li>('dancer!', 1)<li>('answered.', 1)<li>('down:', 1)<li>('laugh?', 1)<li>('delight', 2)<li>('them,', 10)<li>('gentleman,', 3)<li>('withdrawn', 1)<li>('ladies', 1)<li>('things', 6)<li>('whose', 4)<li>('Whither?', 1)<li>('spoken', 2)<li>('bullocks.', 1)<li>('hurt', 5)<li>('title', 1)<li>('base,', 1)<li>('lodge', 1)<li>('bind', 4)<li>('rod,', 1)<li>('whipped!', 1)<li>(\"birds'\", 2)<li>('companion,', 1)<li>('honestly.', 1)<li>('scold', 1)<li>('She', 18)<li>('stabs:', 1)<li>('living', 3)<li>('infect', 1)<li>('turned', 5)<li>('yea,', 3)<li>('conjure', 1)<li>('command', 1)<li>('service', 1)<li>('errand', 1)<li>('on;', 3)<li>('hair', 3)<li>('God,', 7)<li>('once', 2)<li>('merry,', 1)<li>('jealous', 1)<li>('much.', 1)<li>('lord;', 4)<li>('windy', 1)<li>('ear', 5)<li>('doth,', 1)<li>('alliance!', 1)<li>('goes', 7)<li>('husbands,', 1)<li>('born.', 1)<li>('pardon.', 1)<li>('wooers', 1)<li>('themselves', 2)<li>('long', 7)<li>('warrant', 9)<li>('ten', 5)<li>('Hero?', 6)<li>('far', 1)<li>('whatsoever', 1)<li>('ranges', 1)<li>('Margaret,', 8)<li>('kill', 8)<li>('draw', 3)<li>('honour,', 5)<li>('call', 13)<li>('Claudio;', 3)<li>('accusation,', 2)<li>('book:', 1)<li>('become', 4)<li>('scorn', 5)<li>('tabour', 1)<li>('pipe:', 1)<li>('dishes.', 1)<li>('fair,', 3)<li>('witness', 2)<li>('perfection.', 1)<li>('sing;', 1)<li>('argument,', 1)<li>('Note', 1)<li>('forsooth,', 1)<li>('guts', 1)<li>('hale', 1)<li>('souls', 1)<li>('money,', 1)<li>('shore,', 1)<li>('bonny,', 1)<li>('fraud', 1)<li>('singer,', 1)<li>('no,', 4)<li>('shift.', 1)<li>('howled', 1)<li>('hanged', 1)<li>('hook', 1)<li>('did,', 3)<li>('assaults', 1)<li>('reverence.', 1)<li>('says:', 1)<li>('twenty', 2)<li>(\"'by\", 1)<li>('down', 10)<li>('sobs,', 1)<li>('prays,', 1)<li>('curses;', 1)<li>('worse.', 1)<li>('exceeding', 3)<li>('tender', 2)<li>('God!', 2)<li>('assure', 2)<li>('quarrels', 1)<li>('fear', 5)<li>('peace:', 2)<li>('howsoever', 1)<li>('make.', 1)<li>('love?', 1)<li>('forward]', 2)<li>('bent.', 1)<li>('Love', 1)<li>('mending.', 1)<li>('quirks', 1)<li>('quips', 1)<li>('humour?', 1)<li>('bachelor,', 1)<li>('Fair', 1)<li>(\"dinner;'\", 1)<li>('meaning', 2)<li>('pleached', 1)<li>('ground,', 1)<li>('coy', 1)<li>('wild', 2)<li>('Doth', 2)<li>('fortunate', 1)<li>('couch', 1)<li>('upon?', 2)<li>('framed', 3)<li>('shape', 3)<li>('project', 1)<li>('drawing', 1)<li>('antique,', 1)<li>('vane', 2)<li>('Out', 4)<li>('refuse', 1)<li>('Goes', 1)<li>('attires,', 1)<li>('arrows,', 1)<li>('pride,', 1)<li>('adieu!', 1)<li>('sole', 1)<li>('thrice', 1)<li>('hangman', 1)<li>('been.', 1)<li>('wants', 1)<li>('money.', 1)<li>('disguises;', 1)<li>('to-morrow,', 2)<li>('brushes', 1)<li>(\"barber's?\", 1)<li>(\"barber's\", 1)<li>('civet:', 1)<li>('heavy', 4)<li>('eight', 1)<li>('save', 3)<li>('concerns', 1)<li>('CLAUDIO]', 2)<li>('holds', 1)<li>('title,', 1)<li>('congregation,', 2)<li>('farther', 2)<li>('untowardly', 1)<li>('charge,', 1)<li>('desertless', 1)<li>('Seacole;', 2)<li>('blessed', 1)<li>('*Second', 5)<li>('reading,', 1)<li>('rest', 1)<li>('streets;', 1)<li>('ancient', 1)<li>('sober:', 1)<li>('men,', 1)<li>('touch', 1)<li>('pitch', 1)<li>('honesty', 1)<li>('baes', 1)<li>(\"on't,\", 1)<li>('statutes,', 1)<li>('offence', 3)<li>(\"By'r\", 1)<li>('neighbours.', 2)<li>('wedding', 1)<li>('Adieu:', 1)<li>('vigitant,', 1)<li>('VERGES/', 3)<li>('elbow', 1)<li>('scab', 1)<li>('utter', 3)<li>('smirched', 1)<li>('club?', 1)<li>('encounter.', 1)<li>('Margaret;', 2)<li>('dark', 1)<li>('rabato', 1)<li>(\"gown's\", 1)<li>('pearls,', 1)<li>('bluish', 1)<li>(\"'t.\", 1)<li>('ashamed?', 1)<li>(\"husband:'\", 1)<li>('light,', 4)<li>(\"love;'\", 1)<li>('stables', 1)<li>('hawk,', 1)<li>('sailing', 1)<li>('These', 3)<li>('catching', 1)<li>('grudging:', 1)<li>('church.', 3)<li>('Another', 2)<li>('decerns', 1)<li>('nearly.', 1)<li>('Comparisons', 1)<li>('worship', 5)<li>('officers;', 1)<li>('gaol.', 1)<li>('brief;', 1)<li>('form', 1)<li>('Father,', 1)<li>('precious', 2)<li>('Nothing,', 1)<li>('evidence', 1)<li>('modesty.', 1)<li>(\"vanquish'd\", 1)<li>('virginity,--', 1)<li>('nuptial.', 1)<li>('yesternight', 2)<li>(\"Confess'd\", 1)<li>('named,', 1)<li>('chastity', 1)<li>('fair!', 1)<li>('down?', 1)<li>('go.', 5)<li>('think.', 2)<li>('story', 1)<li>('stronger', 2)<li>('Myself', 1)<li>('rearward', 1)<li>(\"smirch'd\", 1)<li>('infamy,', 1)<li>('unknown', 1)<li>('praised', 2)<li>('her,--why,', 1)<li>('pit', 1)<li>('until', 2)<li>('Hence', 1)<li>('her!', 2)<li>('little;', 1)<li>('calling,', 1)<li>('divinity,', 1)<li>('creature,', 1)<li>('wisdoms', 2)<li>('dried', 1)<li>('invention,', 2)<li>('reft', 1)<li>('kept', 1)<li>('publish', 1)<li>(\"maintain'd,\", 1)<li>('lived', 2)<li>('likelihood.', 1)<li>('injuries.', 1)<li>('grief,', 1)<li>(\"prolong'd:\", 1)<li>('endure.', 1)<li>('Surely', 1)<li>('Ah,', 1)<li>('forgive', 1)<li>('here:', 1)<li>('enemy.', 1)<li>('uncovered', 1)<li>('melted', 1)<li>('trim', 1)<li>('malefactors?', 1)<li>('examine.', 1)<li>('Yours,', 1)<li>('God?', 1)<li>('ass;', 1)<li>('piety,', 1)<li>('cease', 1)<li>('counsel,', 1)<li>('counsel;', 1)<li>('form:', 1)<li>('Patch', 1)<li>('misfortune', 1)<li>('Fetter', 1)<li>('counsel:', 1)<li>('toothache', 1)<li>('bend', 2)<li>('reason:', 1)<li>('hastily.', 1)<li>('den.', 1)<li>('dissembler,', 1)<li>('fleer', 1)<li>('bruise', 1)<li>('Despite', 1)<li>('boy,', 3)<li>('matter;', 1)<li>('Sir', 1)<li>('serpent', 1)<li>('anticly,', 1)<li>('lord,--', 1)<li>('No?', 1)<li>('shall,', 1)<li>('smart', 1)<li>('both.', 1)<li>('high-proof', 1)<li>('minstrels;', 1)<li>('cat,', 1)<li>('cross.', 1)<li>('capon;', 1)<li>('curiously,', 1)<li>('easily.', 1)<li>(\"'Nay,'\", 3)<li>(\"'Just,'\", 1)<li>('hurts', 1)<li>('virtues:', 1)<li>('properest', 1)<li>('All,', 1)<li>('courtesies', 1)<li>('hose', 1)<li>('ape;', 1)<li>('tame', 1)<li>('to.', 2)<li>('one!', 1)<li>('untruths;', 1)<li>('slanders;', 1)<li>('reasoned,', 1)<li>('repeat', 1)<li>('speech', 2)<li>('plaintiffs:', 1)<li>('sexton', 1)<li>('reformed', 1)<li>('third', 1)<li>('nephew:', 1)<li>('also,', 1)<li>('worship!', 1)<li>('Until', 1)<li>('severally/', 1)<li>(\"greyhound's\", 1)<li>('woman:', 1)<li>('sits', 1)<li>('loving,', 1)<li>('Troilus', 1)<li>('tried:', 1)<li>(\"'lady'\", 1)<li>('came;', 1)<li>('Foul', 1)<li>('challenge;', 1)<li>('subscribe', 1)<li>('politic', 1)<li>('presently?', 1)<li>('Done', 1)<li>('Pardon,', 1)<li>('heavily.', 1)<li>('bones', 1)<li>('masters;', 1)<li>('Phoebus,', 1)<li>('east', 1)<li>('spots', 1)<li>('several', 1)<li>('weeds;', 1)<li>('visit', 1)<li>('attend', 1)<li>('matter,', 1)<li>('low;', 1)<li>('Sweet,', 1)<li>('defiled,', 1)<li>('lived.', 1)<li>('did.', 2)<li>('brain,', 1)<li>(\"Fashion'd\", 1)<li>('hearts.', 1)<li>('her/', 1)<li>('wit-crackers', 1)<li>('double-dealer;', 1)<li>('dancing', 1)<li>('play,', 1)<li>('armed', 1)<li>('punishments', 1)</ul></td><td valign=\"bottom\" halign=\"left\"><ul><li>('I', 662)<li>('Before', 5)<li>('Messenger/', 4)<li>('He', 22)<li>('this:', 1)<li>('not', 207)<li>('left', 7)<li>('How', 25)<li>('few', 2)<li>('twice', 2)<li>('called', 5)<li>('remembered', 2)<li>('promise', 2)<li>('expect', 2)<li>('be', 171)<li>('so', 82)<li>('show', 15)<li>('without', 12)<li>('In', 27)<li>('it', 160)<li>('you,', 34)<li>('Signior', 31)<li>('Mountanto', 1)<li>('or', 44)<li>('O,', 25)<li>('my', 260)<li>(\"uncle's\", 1)<li>('reading', 3)<li>('subscribed', 1)<li>('bird-bolt.', 1)<li>('eaten', 1)<li>('wars.', 2)<li>('musty', 2)<li>('lord', 4)<li>('stuffed', 3)<li>('Who', 9)<li>('every', 21)<li>('block.', 1)<li>('But,', 9)<li>('runs', 2)<li>('mad.', 2)<li>('No,', 22)<li>('child.', 2)<li>('Courtesy', 1)<li>('disdain,', 1)<li>('excepted:', 1)<li>('thank', 15)<li>('crow', 1)<li>('swear', 8)<li>('mind!', 2)<li>('shall', 71)<li>(\"'twere\", 2)<li>('trick:', 2)<li>('friend', 4)<li>('longer.', 2)<li>('together.', 1)<li>('except', 2)<li>('*CLAUDIO*', 125)<li>('professed', 2)<li>('tyrant', 1)<li>('thee', 45)<li>(\"she's\", 5)<li>('brown', 1)<li>('unhandsome;', 1)<li>('buy', 2)<li>('Can', 7)<li>('hare-finder', 1)<li>('sweetest', 1)<li>('on.', 3)<li>('possessed', 3)<li>('exceeds', 1)<li>('first', 8)<li>('myself,', 4)<li>('seek', 5)<li>('PEDRO/', 2)<li>('held', 1)<li>('followed', 1)<li>('Claudio:', 5)<li>('in,', 3)<li>('lord.', 14)<li>('And,', 8)<li>('faiths', 1)<li>('know.', 3)<li>('brought', 7)<li>('humble', 1)<li>('any,', 3)<li>('sickness,', 1)<li>('get', 12)<li>('pen', 2)<li>('brothel-house', 1)<li>('blind', 2)<li>('shoot', 2)<li>('shoulder,', 1)<li>('try:', 1)<li>('bull', 3)<li>(\"hire,'\", 1)<li>('under', 11)<li>('horn-mad.', 1)<li>('Nay,', 16)<li>('spent', 2)<li>('shortly.', 2)<li>('earthquake', 1)<li>('supper;', 1)<li>('To', 30)<li>('body', 2)<li>('guards', 1)<li>('slightly', 1)<li>('neither:', 2)<li>('further,', 1)<li>('examine', 3)<li>('conscience:', 1)<li>('apt', 2)<li>('lesson', 1)<li>('liking', 2)<li>('fit', 5)<li>('strong', 2)<li>('thine.', 1)<li>('about', 16)<li>('Are', 7)<li>('orchard,', 1)<li>('found', 3)<li>('top', 1)<li>('withal,', 1)<li>('do.', 3)<li>('mercy,', 2)<li>('skill.', 1)<li>('time.', 1)<li>('sad?', 2)<li>('breeds;', 1)<li>('limit.', 1)<li>('blessing', 2)<li>('remedy,', 1)<li>('apply', 1)<li>('sleep', 2)<li>('claw', 1)<li>('humour.', 2)<li>(\"ta'en\", 4)<li>('season', 2)<li>('rob', 1)<li>('villain.', 5)<li>('muzzle', 1)<li>('liberty,', 1)<li>('Leonato:', 1)<li>('mischief', 2)<li>('who,', 4)<li>('March-chick!', 1)<li>('room,', 1)<li>('agreed', 1)<li>('cook', 1)<li>(\"what's\", 6)<li>('looks!', 1)<li>('midway', 1)<li>('foot,', 3)<li>('purse,', 1)<li>('lessen', 1)<li>('beard', 3)<li>('devil', 2)<li>('handsome', 3)<li>('fellow,', 4)<li>('husband.', 6)<li>('earth.', 1)<li>('wedding,', 2)<li>('cinque', 2)<li>('ancientry;', 1)<li>('room.', 1)<li>('So', 14)<li>('so?', 5)<li>('aloud.', 1)<li>('better:', 1)<li>('sight', 2)<li>('clerk.', 1)<li>('head.', 1)<li>('dry', 1)<li>('graces', 3)<li>('Nor', 7)<li>('say.', 7)<li>('comparison', 1)<li>('which,', 6)<li>('laughed', 2)<li>('partridge', 1)<li>('/Dance.', 1)<li>('marry', 10)<li>('himself.', 3)<li>('constant', 3)<li>('garland', 3)<li>('wish', 5)<li>('Beatrice', 15)<li>('merry.', 1)<li>('puts', 1)<li>('gives', 2)<li>('Now,', 8)<li>(\"where's\", 2)<li>('count?', 2)<li>('rod', 2)<li>('made,', 3)<li>('began', 1)<li>('breath', 4)<li>('north', 1)<li>('club', 1)<li>('comes.', 2)<li>('end?', 2)<li>('slightest', 1)<li>('tooth-picker', 1)<li>('harpy.', 1)<li>('dish', 1)<li>('whom', 3)<li>('Neither,', 1)<li>('Here,', 3)<li>('mine,', 4)<li>('exchange.', 1)<li>('sit', 4)<li>('mirth', 1)<li>('sleeps,', 1)<li>('say,', 7)<li>('wife', 1)<li>('breathing:', 1)<li>('labours;', 1)<li>(\"nights'\", 1)<li>('queasy', 1)<li>('bar,', 1)<li>('sick', 4)<li>('athwart', 1)<li>('night,', 8)<li>('contaminated', 1)<li>('that?', 2)<li>('prince,', 6)<li>('Only', 2)<li>('intend', 1)<li>('issue', 4)<li>('Boy!', 1)<li>('*Boy*', 2)<li>('sir.', 4)<li>('doublet.', 2)<li>('oyster;', 1)<li>('/Withdraws/', 1)<li>('himself?', 2)<li>('ended,', 2)<li>(\"we'll\", 3)<li>('voice', 2)<li>('more.', 1)<li>('ravished!', 1)<li>('/The', 1)<li>('nonny,', 1)<li>('thus,', 2)<li>('ay:', 1)<li>('neither;', 1)<li>('wind', 2)<li>('up.', 2)<li>('oft', 1)<li>(\"him?'\", 1)<li>('herself,', 1)<li>(\"'I\", 2)<li>('body,', 2)<li>('cause,', 1)<li>('crossness.', 1)<li>('managing', 1)<li>('avoids', 1)<li>('discretion,', 1)<li>('daughter:', 1)<li>('gentlewomen', 1)<li>('sadly', 1)<li>('seem', 4)<li>('reprove', 1)<li>('odd', 2)<li>('appetite', 1)<li>('message?', 1)<li>('withal.', 1)<li>('signior:', 2)<li>('easy', 1)<li>(\"ripen'd\", 1)<li>('proud', 2)<li>('listen', 1)<li>(\"Cupid's\", 2)<li>('Why', 6)<li>('tall,', 1)<li>('purchaseth.', 1)<li>('inwardly:', 1)<li>('prized', 1)<li>('Always', 1)<li>('angry', 2)<li>('madam,', 1)<li>('HERO', 1)<li>('requite', 2)<li>('consummate,', 1)<li>('company;', 1)<li>('Draw', 1)<li>('first,', 1)<li>('Dutchman', 1)<li>('fancy,', 1)<li>('bode?', 1)<li>('paint', 2)<li>('warrant,', 2)<li>('bite', 1)<li>('marriage;--surely', 1)<li>('Who,', 1)<li>('wed,', 1)<li>('allegiance', 1)<li>('watch.', 2)<li>('Dogberry.', 1)<li>('well-favoured', 1)<li>('boast', 1)<li>('subjects.', 2)<li>('also', 1)<li>('drunk', 3)<li>('hands', 4)<li>('shillings', 1)<li>('[Aside]', 3)<li>('masters:', 2)<li>('shouldst', 1)<li>('villains', 1)<li>('doublet,', 1)<li>('Tush!', 1)<li>('seest', 2)<li>('vile', 2)<li>('year;', 1)<li>('somebody?', 1)<li>('five-and-thirty?', 1)<li>('night,--I', 1)<li>('master,', 1)<li>('dangerous', 3)<li>('piece', 2)<li>('commonwealth.', 1)<li>('Masters,--', 1)<li>('goodly', 3)<li>('rise.', 1)<li>('good;', 1)<li>('excellently,', 1)<li>('graceful', 1)<li>('Fie', 1)<li>('speaking', 2)<li>('burden:', 1)<li>('Turk,', 1)<li>('since', 3)<li>('meant,', 1)<li>('perchance', 1)<li>('another,', 1)<li>('coz,', 1)<li>('confidence', 1)<li>('Goodman', 1)<li>('help,', 1)<li>('palabras,', 1)<li>('Verges.', 1)<li>('Neighbours,', 1)<li>('tedious.', 1)<li>(\"'tis;\", 1)<li>('exclamation', 1)<li>('out:', 2)<li>('us!', 1)<li>('Take', 1)<li>('yourself', 1)<li>('haste,', 3)<li>('FRANCIS*', 16)<li>('friar,', 3)<li>('daily', 1)<li>('leave:', 1)<li>('counterpoise', 1)<li>('say:', 1)<li>('beset!', 1)<li>('maiden.', 1)<li>('grieved', 1)<li>('fie!', 1)<li>('foul,', 1)<li>('Could', 1)<li>('deny', 4)<li>('Strike', 2)<li>(\"beggar's\", 1)<li>('mired', 1)<li>('mine;', 1)<li>(\"loins'?\", 1)<li>('wide', 2)<li>(\"Confirm'd,\", 1)<li>('foulness,', 1)<li>('apparitions', 1)<li>('blushes;', 1)<li>('add', 1)<li>('denies', 1)<li>(\"seek'st\", 1)<li>('honour;', 1)<li>('tear', 1)<li>('havoc', 1)<li>('choice', 1)<li>('sway', 1)<li>('behalf', 1)<li>('enjoy', 1)<li>('rack', 1)<li>('value,', 1)<li>('mourn,', 1)<li>('supposition', 1)<li>('reclusive', 1)<li>('inwardness', 1)<li>('freely.', 1)<li>('word?', 1)<li>('Beatrice?', 2)<li>('easier', 1)<li>('--O', 1)<li>('market-place.', 1)<li>('Surely,', 1)<li>('manhood', 1)<li>('Think', 2)<li>('kiss', 2)<li>('Watch,', 2)<li>('knaves;', 1)<li>('ear:', 1)<li>('forth', 1)<li>('ducats', 1)<li>('opinioned.', 1)<li>('coxcomb.', 1)<li>('ass,', 1)<li>('forget', 2)<li>('flesh', 2)<li>('lineament,', 1)<li>('feel;', 1)<li>('tasting', 1)<li>('air', 1)<li>('louder', 1)<li>('gods', 1)<li>('Make', 1)<li>('us,', 2)<li>('Tush,', 2)<li>('brag', 1)<li>('dare,', 3)<li>(\"kill'd\", 2)<li>('sir', 1)<li>('whip', 1)<li>('Brother,--', 1)<li>(\"slander'd\", 1)<li>('Antony,--', 2)<li>('enemies,', 1)<li>('meddle;', 1)<li>('fray.', 1)<li>('feast,', 1)<li>(\"calf's\", 1)<li>(\"'a\", 5)<li>('tongue;', 1)<li>('discontinue', 1)<li>('company:', 1)<li>('profound', 1)<li>('weigh', 1)<li>('balance:', 1)<li>('report;', 1)<li>('things;', 1)<li>('offended,', 1)<li>('court', 1)<li>('Runs', 1)<li>('Sexton', 1)<li>('fled,', 1)<li>('I:', 1)<li>('To-morrow', 2)<li>('To-night', 2)<li>('plaintiff', 1)<li>('lend', 1)<li>('worship;', 1)<li>('morning,', 1)<li>('lords,', 1)<li>('grew', 1)<li>('sonnet', 2)<li>('swimmer,', 1)<li>('panders,', 1)<li>('smoothly', 1)<li>('then!', 1)<li>('breath,', 1)<li>('noisome;', 1)<li>('spite', 3)<li>('clamour', 1)<li>('expedient', 1)<li>('praising', 1)<li>('mend.', 1)<li>('wrongs,', 1)<li>('dies.', 1)<li>('Those', 1)<li>('woe,', 1)<li>('Midnight,', 1)<li>('moan;', 1)<li>('Graves,', 1)<li>('night!', 1)<li>('Yearly', 1)<li>('Dapples', 1)<li>('regards', 1)<li>('help.', 2)<li>('cloudiness?', 1)<li>('loved,', 1)<li>('died,', 1)<li>('amazement', 1)<li>('well-nigh', 1)<li>('Writ', 1)<li>('thing,', 1)<li>('kinsman,', 1)<li>('music.', 1)<li>('wife,', 1)<li>('flight,', 1)</ul></td><td valign=\"bottom\" halign=\"left\"><ul><li>('house.', 7)<li>('letter', 3)<li>('Don', 15)<li>('very', 29)<li>('gentlemen', 1)<li>('lamb,', 1)<li>('lion:', 1)<li>('tell', 37)<li>('there', 32)<li>('even', 10)<li>('overflow', 1)<li>('are', 82)<li>('weep', 2)<li>('weeping!', 1)<li>('pray', 28)<li>('ask', 5)<li>('set', 6)<li>('killed', 4)<li>('killed?', 1)<li>('good', 70)<li>('service,', 1)<li>('excellent', 12)<li>('man;', 8)<li>('last', 7)<li>('now', 28)<li>('one:', 2)<li>('sworn', 4)<li>('easily', 1)<li>('books.', 1)<li>('study.', 1)<li>('companion?', 1)<li>('make', 34)<li>('upon', 32)<li>('approached.', 1)<li>('*DON', 175)<li>('world', 9)<li>('came', 6)<li>('trouble', 2)<li>('depart', 4)<li>('abides', 1)<li>('leave.', 2)<li>('charge', 8)<li>('told', 14)<li>('may', 44)<li>('lady', 11)<li>('Disdain!', 1)<li>('feed', 1)<li>('loved', 12)<li>('that:', 2)<li>('Let', 12)<li>('welcome,', 1)<li>('Leonato;', 1)<li>('question', 3)<li>('after', 7)<li>('sex?', 1)<li>('faith,', 14)<li>('methinks', 3)<li>('sport:', 1)<li>('truly', 5)<li>('sad', 6)<li>('song?', 1)<li>('turn', 3)<li>('cap', 1)<li>('bachelor', 1)<li>('needs', 1)<li>('here,', 3)<li>('so;', 4)<li>('mark', 1)<li>('love.', 11)<li>('who?', 2)<li>('Mark', 1)<li>('tale,', 1)<li>('indeed,', 5)<li>('thought.', 2)<li>('spoke', 4)<li>('neither', 2)<li>('heretic', 1)<li>('thanks:', 1)<li>('winded', 1)<li>('bugle', 1)<li>('baldrick,', 1)<li>('pardon', 3)<li>('none;', 2)<li>('fine', 4)<li>('thee,', 14)<li>('more', 25)<li>('sign', 4)<li>('fall', 5)<li>('notable', 1)<li>('cat', 1)<li>(\"yoke.'\", 1)<li>('it,', 17)<li>(\"bull's\", 2)<li>('married', 6)<li>('hours.', 1)<li>(\"Leonato's:\", 2)<li>('matter', 5)<li>('you--', 1)<li>('discourse', 2)<li>('lest', 3)<li>('seem,', 1)<li>('salved', 1)<li>('lovest,', 1)<li>('presently.', 3)<li>('LEONATO', 5)<li>('of.', 2)<li>('stamps', 1)<li>('outward.', 1)<li>('acknowledge', 1)<li>('appear', 8)<li>('friend;', 2)<li>('measure', 4)<li>('Saturn,', 1)<li>('hide', 5)<li>('leisure,', 1)<li>('newly', 1)<li>('root', 1)<li>('frame', 2)<li>('own', 16)<li>('rose', 1)<li>('trusted', 1)<li>('*BORACHIO*', 39)<li>('unquietness?', 1)<li>('glory', 3)<li>('cross', 3)<li>('others/', 2)<li>('melancholy', 5)<li>('disposition.', 1)<li>('just', 8)<li>('says', 9)<li>('nothing,', 3)<li>('good-will.', 1)<li>('shrewd', 1)<li>('Too', 1)<li>('sends', 2)<li>('dress', 2)<li>('then,', 13)<li>('HERO]', 1)<li>(\"'Father,\", 2)<li>('fitted', 1)<li>('match', 2)<li>('revellers', 1)<li>('friend?', 2)<li>('walk;', 1)<li>('favour;', 1)<li>('thatched.', 1)<li>('low,', 2)<li>('Which', 14)<li>('Antonio.', 1)<li>('At', 3)<li>('waggling', 1)<li>('virtue', 5)<li>('mum,', 1)<li>('appear,', 1)<li>('now.', 1)<li>('supper', 1)<li>('thing.', 2)<li>('exeunt', 1)<li>('remains.', 1)<li>('bearing.', 1)<li>('Thus', 4)<li>('hourly', 1)<li>('neck,', 1)<li>('got', 4)<li>('boy', 1)<li>(\"you'll\", 3)<li>('reputed:', 1)<li>('person', 1)<li>('stolen', 3)<li>('nest.', 1)<li>('wronged', 3)<li>('past', 2)<li>('block!', 1)<li>('leaf', 1)<li>('poniards,', 1)<li>('spit,', 1)<li>('too.', 4)<li>('thither;', 1)<li>('disquiet,', 1)<li>('length', 2)<li>('Prester', 1)<li>('company.', 2)<li>('marry,', 7)<li>('down.', 1)<li>('sad,', 3)<li>('sick?', 1)<li>('Count,', 1)<li>('Silence', 1)<li>('herald', 1)<li>('cousin;', 3)<li>('stop', 2)<li>('mouth', 1)<li>('kiss,', 1)<li>('neither.', 1)<li>('husband!', 1)<li>('dreamed', 1)<li>('week', 1)<li>('mean', 2)<li>('shake', 1)<li>('confirmed', 1)<li>('s', 1)<li>('impediment', 3)<li>('waiting', 1)<li>('can,', 4)<li>('poison', 2)<li>('temper.', 1)<li>('proof', 1)<li>('issue?', 1)<li>('as,--in', 1)<li>('They', 8)<li>('chamber-window,', 2)<li>('term', 1)<li>('preparation', 1)<li>('overthrown.', 1)<li>('chamber-window', 3)<li>('seeing', 1)<li>('a-foot', 1)<li>('nights', 1)<li>('awake,', 1)<li>('soldier;', 1)<li>('tell;', 1)<li>('wise,', 5)<li>('certain;', 2)<li>('angel;', 1)<li>('musician,', 1)<li>('colour', 1)<li>('BALTHASAR', 1)<li>('Balthasar,', 1)<li>('Since', 2)<li>('wooer', 1)<li>(\"sheeps'\", 1)<li>('Converting', 1)<li>('sounds', 1)<li>('to-day,', 1)<li>('infinite', 1)<li>('counterfeit.', 1)<li>('counterfeit!', 1)<li>('fish', 2)<li>('How,', 1)<li>('will:', 1)<li>('torment.', 1)<li>(\"she'll\", 1)<li>('smock', 1)<li>('paper,', 1)<li>('railed', 2)<li>('weeps,', 1)<li>('outrage', 1)<li>('discover', 2)<li>('daffed', 1)<li>('accustomed', 1)<li>('contemptible', 1)<li>('happiness.', 1)<li>('further', 2)<li>('dotage,', 1)<li>('dinner.', 2)<li>('witness;', 1)<li>('chance', 2)<li>('alter?', 1)<li>('career', 1)<li>('peopled.', 1)<li>('choke', 1)<li>('daw', 1)<li>('thanks.', 1)<li>('Walk', 1)<li>('Forbid', 1)<li>('enter,', 1)<li>('pride', 2)<li>('merit:', 1)<li>('conference.', 1)<li>('silver', 1)<li>('entirely?', 1)<li>('entreat', 2)<li>('deserve', 3)<li>('yielded', 1)<li>('Nature', 1)<li>('self-endeared.', 1)<li>('speaking,', 2)<li>('carping', 1)<li>('fire,', 2)<li>('tickling.', 1)<li>('fight', 2)<li>('wrong.', 1)<li>('excepted', 1)<li>('foremost', 1)<li>('excellence', 1)<li>('kills', 1)<li>('farewell!', 1)<li>('cut', 1)<li>('clapper,', 1)<li>('believing', 1)<li>('loss', 1)<li>('rubs', 1)<li>(\"That's\", 1)<li>(\"youth's\", 1)<li>('lute-string', 1)<li>('conditions;', 1)<li>('dies', 2)<li>('hereafter,', 1)<li>('circumstances', 1)<li>('wickedness;', 1)<li>('disgrace', 2)<li>('itself.', 1)<li>('DOGBERRY', 4)<li>('thanks,', 1)<li>('vanity.', 1)<li>('stand?', 1)<li>('rid', 1)<li>('endured.', 1)<li>('sleeping', 1)<li>('thief,', 3)<li>(\"by'r\", 2)<li>('offend', 3)<li>('masters,', 6)<li>('follow.', 1)<li>('treason,', 1)<li>('dear?', 1)<li>('ones,', 1)<li>('price', 1)<li>('unconfirmed.', 1)<li>('deformed', 2)<li>('is?', 2)<li>(\"Bel's\", 1)<li>('leans', 1)<li>('placed', 2)<li>('John,', 3)<li>('confirm', 1)<li>('appointed,', 1)<li>(\"o'er\", 1)<li>('lock.', 1)<li>('another:', 1)<li>('gold,', 1)<li>('round', 2)<li>('heavy.', 1)<li>(\"'Twill\", 1)<li>('thee!', 3)<li>('heels!', 1)<li>('lack', 2)<li>('begins', 1)<li>('Nothing', 2)<li>('I;', 1)<li>('perfume.', 1)<li>('smell.', 1)<li>('heart:', 1)<li>('prickest', 1)<li>('Help', 2)<li>('part,', 3)<li>('city;', 1)<li>('see.', 1)<li>('bread;', 1)<li>('worshipped;', 1)<li>('gives.', 1)<li>('watch,', 1)<li>('Francis', 1)<li>('wisely.', 1)<li>('FRIAR', 2)<li>('Give', 5)<li>('withal!', 1)<li>('Comes', 1)<li>('bed;', 1)<li>('sin:', 2)<li>('sincerity', 1)<li>('chaste', 1)<li>('rage', 1)<li>('common', 1)<li>('dream?', 1)<li>('catechising', 1)<li>('Myself,', 1)<li>('villain,', 3)<li>('purity!', 1)<li>('gates', 1)<li>('conjecture', 1)<li>('harm,', 1)<li>('cousin!', 1)<li>('Smother', 1)<li>('earthly', 1)<li>('Grieved', 1)<li>('gates,', 1)<li>('ink,', 1)<li>('salt', 1)<li>('bedfellow', 1)<li>(\"barr'd\", 1)<li>('...', 1)<li>('tenor', 1)<li>('damnation', 1)<li>('nakedness?', 1)<li>('accused', 3)<li>('hours', 1)<li>('hate', 2)<li>('Whose', 2)<li>('Ability', 1)<li>('awhile', 1)<li>('Maintain', 1)<li>('ostentation', 1)<li>('epitaphs', 1)<li>('course,', 1)<li>('lamented,', 1)<li>('ours.', 1)<li>('imagination,', 1)<li>('interest', 1)<li>('befits', 1)<li>('Yet,', 1)<li>('Should', 1)<li>('twine', 1)<li>('wedding-day', 1)<li>('wept', 2)<li>('offence,', 2)<li>('Kill', 1)<li>('Farewell.', 1)<li>('hands;', 1)<li>('public', 1)<li>('saying!', 1)<li>('undone.', 1)<li>('surely!', 1)<li>('swearing', 1)<li>('challenge', 2)<li>('account.', 1)<li>('Conrade.', 2)<li>('sirrah;', 1)<li>('knaves.', 2)<li>('accusers.', 1)<li>('fellow?', 1)<li>('villain!', 1)<li>('refused,', 1)<li>('examination.', 1)<li>('hands--', 1)<li>('officer', 1)<li>('Away!', 2)<li>('years?', 1)<li>('ass!', 2)<li>('officer,', 1)<li>('patience;', 2)<li>('silken', 1)<li>('ache', 1)<li>('PEDRO', 2)<li>('low.', 1)<li>('sword;', 1)<li>('Know,', 1)<li>('forced', 1)<li>('grey', 1)<li>('child;', 1)<li>('nice', 1)<li>('fence', 1)<li>(\"kill'st\", 1)<li>('braggarts,', 1)<li>('cog', 1)<li>('angry?', 1)<li>(\"tongues:'\", 1)<li>('together,', 1)<li>('transshape', 1)<li>('cared', 1)<li>('dwells', 1)<li>('thanked,', 1)<li>('Messina:', 1)<li>('Lord', 1)<li>('Lackbeard', 1)<li>('verified', 1)<li>('confessing', 1)<li>('paid', 2)<li>('wronger,', 1)<li>('Record', 1)<li>('Impose', 1)<li>('bones,', 1)<li>('us:', 2)<li>('offer;', 1)<li>('yourself,', 1)<li>('depart;', 1)<li>('meeting', 1)<li>('fellow.', 1)<li>('beauty?', 1)<li>('Beatrice:', 1)<li>('own.', 1)<li>('weapons', 1)<li>('singing;', 1)<li>(\"'baby,'\", 1)<li>('passed', 1)<li>('evil', 1)<li>('admit', 1)<li>('intermingle', 1)<li>('Suffer', 1)<li>('confession:', 1)<li>('rings', 1)<li>('trumpet', 1)<li>('lap,', 1)<li>(\"uncle's.\", 1)<li>('Death,', 1)<li>('glorious', 1)<li>('goddess', 1)<li>('slew', 1)<li>('grey.', 1)<li>(\"conjoin'd\", 1)<li>('determined', 1)<li>('frost,', 1)<li>('gold', 1)<li>('cow,', 1)<li>('lived,', 1)<li>('[Unmasking]', 1)</ul></td><td valign=\"bottom\" halign=\"left\"><ul><li>('learn', 4)<li>('to', 388)<li>('off', 8)<li>('name.', 6)<li>('hath', 66)<li>('on', 59)<li>('Florentine', 1)<li>('bettered', 1)<li>('me', 114)<li>('Did', 5)<li>('kindness:', 1)<li>('truer', 1)<li>('wars', 1)<li>('no?', 1)<li>('lady:', 4)<li>('such', 37)<li>('Padua.', 1)<li>('challenged', 3)<li>('fool,', 5)<li>('all', 64)<li>('You', 40)<li>('so,', 21)<li>('less', 5)<li>('mortal.', 1)<li>('niece.', 3)<li>('nothing', 12)<li>('that.', 2)<li>('halting', 2)<li>('if', 76)<li>('changes', 2)<li>('next', 4)<li>('see,', 3)<li>('Is', 22)<li>('sooner', 1)<li>('presently', 5)<li>('cost', 2)<li>('ere', 11)<li>('hold', 10)<li>('mad,', 1)<li>('BENEDICK,', 5)<li>('come', 30)<li>('avoid', 2)<li>('likeness', 1)<li>('should', 46)<li>('sorrow', 2)<li>('takes', 1)<li>('Were', 3)<li>('no;', 5)<li>('Benedick:', 3)<li>('fathers', 1)<li>('father,', 4)<li>('you.', 25)<li>('What,', 5)<li>('while', 3)<li>('food', 2)<li>('Benedick?', 4)<li>('suitor.', 1)<li>('blood,', 1)<li>('Well,', 24)<li>('way,', 4)<li>(\"jade's\", 1)<li>('all.', 5)<li>('brother,', 7)<li>('owe', 3)<li>('/Exeunt', 12)<li>('their', 25)<li>('Why,', 26)<li>('praise:', 1)<li>('into.', 1)<li>('play', 2)<li>('Vulcan', 1)<li>('key', 2)<li>('eye', 7)<li>('see', 26)<li>('one', 42)<li>('again?', 1)<li>('sigh', 6)<li>('dumb', 1)<li>('With', 7)<li>('answer', 14)<li>('Like', 1)<li>('Amen,', 1)<li>('her;', 14)<li>('worthy,', 3)<li>('me:', 11)<li>('obstinate', 1)<li>('conceived', 1)<li>('bottle', 1)<li>('clapped', 1)<li>(\"'Here\", 3)<li>('guarded', 1)<li>('basted', 1)<li>('teach:', 1)<li>('action,', 1)<li>('delicate', 1)<li>('desires,', 1)<li>('Saying,', 1)<li>('cherish', 1)<li>('grief', 7)<li>('sudden', 1)<li>('flood?', 1)<li>('necessity.', 1)<li>('remedy.', 1)<li>('meeting/', 2)<li>('music?', 2)<li>('*ANTONIO*', 23)<li>('dance:', 1)<li>('Cousins,', 2)<li>('CONRADE/', 2)<li>('therefore', 11)<li>('reason.', 3)<li>('it?', 3)<li>('mortifying', 1)<li>(\"man's\", 8)<li>('grace;', 1)<li>('flattering', 1)<li>('plain-dealing', 1)<li>('BORACHIO/', 5)<li>('Being', 2)<li>('smoking', 1)<li>('whipt', 1)<li>('thither:', 1)<li>('start-up', 1)<li>('saw', 7)<li>('morning', 5)<li>('bear-ward,', 1)<li>('heaven,', 1)<li>('place', 2)<li>('Saint', 1)<li>('[To', 3)<li>(\"you.'\", 1)<li>('men', 20)<li>('dust?', 1)<li>('brethren;', 1)<li>('and,', 18)<li>('kindred.', 1)<li>('music,', 2)<li>('dance', 4)<li>('For,', 2)<li>('sink', 2)<li>('softly', 1)<li>('company?', 1)<li>('Speak', 1)<li>(\"Here's\", 1)<li>('he:', 1)<li>('are?', 1)<li>('villany;', 1)<li>('at,', 1)<li>('/Music/', 1)<li>('leaders.', 1)<li>('turning.', 1)<li>('enamoured', 1)<li>('banquet.', 1)<li>('Friendship', 1)<li>('office', 2)<li>('hearts', 2)<li>('witch', 1)<li>('Hero!', 8)<li>(\"usurer's\", 1)<li>('chain?', 1)<li>('post.', 1)<li>('sedges.', 1)<li>('because', 3)<li>('worthy', 2)<li>('Yet', 8)<li>('amiss', 1)<li>('worn', 1)<li>('restore', 2)<li>('owner.', 1)<li>('duller', 1)<li>('shooting', 1)<li>('word', 8)<li>('certainly,', 1)<li>('sanctuary;', 1)<li>('people', 2)<li>('inch', 1)<li>('desire', 6)<li>('come;', 2)<li>('then?', 1)<li>('civil', 2)<li>('count,', 4)<li>('obtained:', 1)<li>('Amen', 1)<li>('one.', 2)<li>(\"father's\", 2)<li>('getting.', 1)<li>('matter.', 2)<li>('becomes', 1)<li>('danced,', 1)<li>('rites.', 1)<li>('affection', 4)<li>('other.', 1)<li>('office,', 5)<li>('evenly', 1)<li>('Go,', 4)<li>(\"friend's\", 1)<li>('absent,--and', 1)<li>('Grow', 1)<li>('hence,', 2)<li>('fife;', 1)<li>('carving', 1)<li>('plain', 3)<li>('converted', 2)<li>('virtuous,', 2)<li>('cheapen', 1)<li>('Ha!', 3)<li>('Monsieur', 1)<li>(\"hush'd\", 1)<li>('purpose', 3)<li>('Note,', 1)<li>(\"all's\", 1)<li>('Song/', 1)<li>('woe', 2)<li>('Balthasar?', 1)<li>('music;', 1)<li>('to-morrow', 4)<li>('farewell.', 3)<li>('fowl', 1)<li>('corner?', 1)<li>('discovers', 1)<li>('bite.', 1)<li>('indeed.', 2)<li>('had,', 1)<li>('halfpence;', 1)<li>('spirit;', 2)<li>('heart,', 6)<li>(\"patience!'\", 1)<li>('overborne', 1)<li>('afeared', 1)<li>('herself:', 1)<li>('suspicion,', 1)<li>('wise.', 2)<li>('guardian.', 1)<li>('respects', 1)<li>('myself.', 2)<li>('die;', 1)<li>('known,', 1)<li>('fear.', 1)<li>('jests', 2)<li>('impossible:', 2)<li>('first.', 3)<li>('dinner', 1)<li>('carry.', 1)<li>('censured:', 1)<li>('perceive', 1)<li>('pleasure', 2)<li>('villain;', 3)<li>('Jew.', 1)<li>('alone.', 2)<li>('Our', 1)<li>('hearsay.', 1)<li>('begin;', 1)<li>('For', 20)<li>(\"pleasant'st\", 1)<li>('golden', 1)<li>('stream,', 1)<li>('devour', 1)<li>('coverture.', 1)<li>('Fear', 1)<li>('new-trothed', 1)<li>('stuff', 1)<li>('Sure,', 2)<li>('featured,', 1)<li>('cut;', 1)<li>('blown', 1)<li>('moved', 1)<li>('merit', 1)<li>('waste', 1)<li>('counsel', 5)<li>('judgment--', 1)<li>('bearing,', 1)<li>('report', 1)<li>('to-morrow.', 3)<li>('back', 3)<li>('Taming', 1)<li>('hand:', 2)<li>('holy', 3)<li>('thither,', 1)<li>('gloss', 1)<li>('sadder.', 1)<li>('drop', 1)<li>('it!', 3)<li>('has', 3)<li>('melancholy.', 1)<li>('buried', 3)<li>('charm', 1)<li>('studied', 1)<li>('private?', 1)<li>('of,', 1)<li>('Wonder', 1)<li>('witnesses:', 1)<li>('thwarting!', 1)<li>('prevented!', 1)<li>('sequel.', 1)<li>('street.', 1)<li>('*DOGBERRY*', 52)<li>('chosen', 1)<li>('constable?', 1)<li>('Both', 2)<li>('watch;', 1)<li>('vagrom', 1)<li>('offend:', 1)<li>('suspect', 3)<li>('partner.', 2)<li>('night:', 1)<li>('Conrade!', 1)<li>('Mass,', 1)<li>('thee.', 9)<li>('giddily', 1)<li>('bloods', 1)<li>('fashioning', 1)<li>('tapestry,', 1)<li>('enraged;', 1)<li>('Masters,', 4)<li>('respect', 1)<li>('silver,', 1)<li>('fine,', 1)<li>(\"'saving\", 1)<li>('tune,', 1)<li>(\"Clap's\", 1)<li>('illegitimate', 1)<li>(\"o'clock,\", 1)<li>('husband?', 1)<li>('Benedictus!', 1)<li>('Benedictus?', 1)<li>('Moral!', 1)<li>('meaning;', 1)<li>('list,', 1)<li>('keeps?', 1)<li>('Verges,', 1)<li>('were;', 1)<li>('honester', 1)<li>(\"duke's\", 1)<li>(\"worship's\", 1)<li>('knaves', 1)<li>('Verges:', 1)<li>('alike;', 1)<li>('aspicious', 1)<li>('unto', 6)<li>('go:', 1)<li>('non-come:', 1)<li>('learned', 2)<li>('*FRIAR', 16)<li>('freely,', 1)<li>('heat', 1)<li>('resistance', 1)<li>('Dian', 1)<li>(\"Hero's?\", 1)<li>('own?', 1)<li>('reproach?', 1)<li>(\"talk'd\", 2)<li>('window', 1)<li>('Talk', 2)<li>('liberal', 1)<li>('hadst', 2)<li>('thoughts', 2)<li>('impiety', 1)<li>('dagger', 1)<li>('Dead,', 1)<li>('Death', 1)<li>(\"wish'd\", 1)<li>('comfort,', 1)<li>('up?', 1)<li>('blood?', 2)<li>('reproaches,', 1)<li>('bedfellow.', 1)<li>('die.', 1)<li>('Friar,', 2)<li>('alive', 1)<li>('mercy!', 1)<li>('misprision', 1)<li>('bent', 1)<li>('misled', 1)<li>('toil', 1)<li>('friends,', 2)<li>('dead', 3)<li>(\"family's\", 1)<li>('rites', 2)<li>('appertain', 1)<li>('pitied', 1)<li>('Whiles', 2)<li>('died', 3)<li>('habit,', 1)<li>('prospect', 1)<li>('smallest', 1)<li>('sauce', 1)<li>('protest.', 1)<li>('world.', 1)<li>('man!', 4)<li>('unmitigated', 1)<li>('window!', 1)<li>('offenders', 1)<li>('sirrah?', 1)<li>('yourselves?', 1)<li>('Master', 3)<li>('accusing', 1)<li>('wrongfully.', 1)<li>('condemned', 1)<li>('redemption', 1)<li>('place?', 1)<li>('written', 2)<li>('Bring', 3)<li>('second', 1)<li>('comforter', 1)<li>('child,', 1)<li>('proverbs,', 1)<li>('preceptial', 1)<li>('patiently,', 1)<li>('belied;', 1)<li>('hasty', 1)<li>('fear:', 1)<li>('scandal', 1)<li>('thine,', 1)<li>('practise,', 1)<li>('Canst', 1)<li>('daff', 1)<li>('indeed:', 1)<li>('fence;', 1)<li>('milksops!', 1)<li>('Brother', 1)<li>('durst;', 1)<li>('Gentlemen', 1)<li>('death:', 3)<li>('charged', 1)<li>('noses', 1)<li>('beside', 1)<li>('choose', 1)<li>('ear?', 1)<li>('cowardice.', 1)<li>('naught.', 1)<li>(\"'True,'\", 1)<li>(\"nobody.'\", 1)<li>(\"believe,'\", 1)<li>('Tuesday', 1)<li>('boy:', 1)<li>('among', 2)<li>('wit!', 1)<li>('secondarily,', 1)<li>('division:', 1)<li>('answer:', 1)<li>('garments,', 1)<li>('accusation;', 1)<li>(\"utter'd\", 1)<li>('composed', 1)<li>('specify,', 1)<li>('slave', 1)<li>(\"'Twas\", 1)<li>('dispose', 1)<li>('henceforth', 1)<li>('coming;', 1)<li>('Hired', 1)<li>('ass:', 1)<li>('grow', 1)<li>('acquaintance', 1)<li>('style,', 1)<li>(\"fencer's\", 1)<li>('MARGARET/', 1)<li>('quondam', 1)<li>('festival', 1)<li>('lime', 1)<li>('cousin?', 1)<li>('gone.', 1)<li>('*Lord*', 1)<li>('scroll]', 1)<li>('slanderous', 1)<li>('Till', 1)<li>(\"render'd\", 1)<li>('Although', 1)<li>('tip', 1)<li>('lusty', 1)<li>('maid.', 1)<li>('former', 1)<li>('satire', 1)<li>('brains,', 1)<li>('narrowly', 1)<li>('afterward.', 1)</ul></td><td valign=\"bottom\" halign=\"left\"><ul><li>('ACT', 5)<li>('SCENE', 17)<li>('I.', 7)<li>('he', 167)<li>('three', 5)<li>('when', 50)<li>('home', 2)<li>('young', 9)<li>('Much', 2)<li>('figure', 1)<li>('tears?', 2)<li>('kind', 5)<li>('What', 33)<li>('*HERO*', 44)<li>('promised', 2)<li>('killing.', 1)<li>('Faith,', 2)<li>('but', 114)<li>('not.', 14)<li>('holp', 2)<li>('It', 14)<li>('governed', 2)<li>('let', 51)<li>('devil?', 1)<li>('hang', 7)<li>('like', 48)<li>('disease:', 1)<li>('January.', 1)<li>('Pedro', 3)<li>('PEDRO,', 8)<li>('JOHN,', 5)<li>('house', 3)<li>('daughter.', 2)<li>('so.', 7)<li>('full,', 1)<li>('are,', 1)<li>('man.', 12)<li>('father.', 2)<li>('yet', 22)<li>('possible', 5)<li>('Then', 9)<li>('certain', 2)<li>('am', 76)<li>('other', 17)<li>('were.', 1)<li>('parrot-teacher.', 1)<li>('bird', 1)<li>('continuer.', 1)<li>('name;', 1)<li>('heartily', 2)<li>('detain', 1)<li>('bid', 18)<li>('prince', 27)<li>('Please', 1)<li>('not;', 4)<li>('do,', 3)<li>('judgment;', 1)<li>('custom,', 1)<li>('low', 1)<li>('praise', 7)<li>('is,', 14)<li>('do', 78)<li>('Yea,', 24)<li>('brow?', 1)<li>('Jack,', 1)<li>('take', 24)<li>('Hero', 21)<li>('suspicion?', 1)<li>('Go', 6)<li>(\"grace's\", 2)<li>(\"Leonato's\", 4)<li>('worthy.', 1)<li>('feel', 1)<li>('despite', 5)<li>('women', 2)<li>('finer,', 1)<li>('live', 7)<li>('again', 3)<li>('argument.', 1)<li>('commend', 1)<li>('preparation.', 1)<li>('it,--', 1)<li>('sometime', 4)<li>('ends', 1)<li>('Any', 3)<li>('child', 6)<li>('Dost', 5)<li>('When', 9)<li>('ended', 1)<li>('task', 1)<li>('Than', 6)<li>('prompting', 1)<li>('liked', 1)<li>('serve', 4)<li>('hearing', 1)<li>('brother!', 1)<li>('dreamt', 1)<li>('event', 2)<li>('cover;', 1)<li>('true.', 6)<li>('cry', 6)<li>('sufferance.', 2)<li>('cause', 2)<li>('laugh', 3)<li>('impossible', 3)<li>('sing', 6)<li>('Who?', 1)<li>('heir', 2)<li>('obtained', 1)<li>('way.', 3)<li>('sure,', 4)<li>('II', 1)<li>('image', 2)<li>('money', 2)<li>('curst,', 1)<li>('endure', 6)<li>('sixpence', 1)<li>('hell.', 1)<li>('say', 38)<li>(\"maids:'\", 1)<li>('apes,', 2)<li>(\"me.'\", 2)<li>('account', 1)<li>('marl?', 1)<li>('kind,', 2)<li>('wooed', 4)<li>('suit', 4)<li>('brother:', 2)<li>('please.', 1)<li>('*MARGARET*', 26)<li>('ill-qualities.', 1)<li>('counterfeit', 2)<li>('sure', 5)<li>('gift', 2)<li>('beat', 3)<li>('equal', 1)<li>('swore', 7)<li>('Save', 2)<li>('melteth', 1)<li>('blood.', 1)<li>('county.', 1)<li>('served', 1)<li>('Alas,', 1)<li>('creep', 2)<li>('warren:', 1)<li>('offered', 1)<li>('willow-tree,', 1)<li>('fault?', 1)<li>('flat', 2)<li>('jester,', 1)<li>('thaw;', 1)<li>('jest', 5)<li>('mark,', 1)<li>('speaks', 4)<li>(\"world's\", 1)<li>('embassage', 1)<li>('not:', 4)<li>('awhile;', 1)<li>('single', 2)<li>('orange,', 1)<li>('conceit', 1)<li>('Speak,', 2)<li>('cannot,', 2)<li>('maid', 2)<li>('pleasant-spirited', 1)<li>('married,', 4)<li>('To-morrow,', 1)<li>('crutches', 1)<li>('approved', 3)<li>('Benedick;', 1)<li>('helps,', 1)<li>('love-gods.', 1)<li>('briefly', 1)<li>('spare', 2)<li>('up--to', 1)<li>('stale,', 1)<li>('trial:', 1)<li>('practise.', 1)<li>('working', 1)<li>('hither', 4)<li>('behaviors', 2)<li>('music', 3)<li>('banquet,', 1)<li>('fool.', 2)<li>('One', 5)<li>('noble,', 2)<li>('harmony!', 1)<li>('Music/', 1)<li>('wooes,', 1)<li>('loves.', 1)<li>('worth', 4)<li>('notes,', 1)<li>('air!', 1)<li>('bodies?', 1)<li>('c.', 1)<li>('song.', 1)<li>('singest', 1)<li>('bode', 1)<li>('hither,', 4)<li>('stalk', 2)<li>('seemed', 1)<li>('affection:', 1)<li>('amaze', 1)<li>('spirit', 1)<li>(\"'that\", 1)<li>('Now', 2)<li>('pretty', 4)<li>('sheet?', 1)<li>('immodest', 1)<li>(\"should.'\", 1)<li>('good,', 1)<li>('undertakes', 1)<li>('Christian-like', 1)<li>('ought', 3)<li>('enter', 1)<li>('walk?', 1)<li>('pity', 3)<li>('marry:', 1)<li>('proud:', 1)<li>('truth,', 2)<li>('virtuous;', 1)<li>('marriage:', 2)<li>('age.', 1)<li>('bullets', 1)<li>('pains.', 3)<li>('pains', 5)<li>('painful,', 1)<li>(\"knife's\", 2)<li>('III', 1)<li>('garden.', 3)<li>('steal', 2)<li>('favourites,', 1)<li>('power', 2)<li>('Ursula,', 3)<li>('crafty', 1)<li>('behind/', 1)<li>('bait:', 1)<li>('love!', 2)<li>('prouder', 1)<li>('ride', 3)<li>('on,', 2)<li>('certainly', 1)<li>('backward:', 1)<li>('silent,', 1)<li>('commendable:', 1)<li>(\"cover'd\", 1)<li>('Italy.', 3)<li>('Stand', 3)<li>('much?', 1)<li>('others', 1)<li>('marriage', 3)<li>('Arragon.', 1)<li>('mirth:', 1)<li>('toothache.', 2)<li>('master', 8)<li>('today,', 1)<li>('signs:', 1)<li>('hat', 1)<li>('smell', 1)<li>('greatest', 1)<li>('Old', 1)<li>('life,', 6)<li>('bears', 1)<li>('served,', 1)<li>('Means', 1)<li>('to-morrow?', 1)<li>('manifest.', 1)<li>('labour', 2)<li>('bestowed.', 1)<li>('entered,', 1)<li>('accordingly.', 1)<li>('VERGES', 1)<li>('Otecake,', 1)<li>('read', 1)<li>('nature.', 1)<li>('writing', 1)<li>('senseless', 1)<li>('charge:', 2)<li>('go;', 1)<li>('watch', 8)<li>('stand', 7)<li>('tolerable', 1)<li>('belongs', 1)<li>('bed.', 2)<li>('for.', 2)<li>('calf', 2)<li>('chances,', 1)<li>('counsels', 2)<li>('earned', 1)<li>('Deformed;', 1)<li>('Didst', 1)<li>('soldiers', 1)<li>('codpiece', 1)<li>('massy', 1)<li>('see;', 2)<li>('hast', 7)<li>('gentlewoman,', 1)<li>('vilely:--I', 1)<li>('Two', 2)<li>('partly', 3)<li>('stand!', 1)<li>('commodity,', 1)<li>('hither.', 1)<li>('Duchess', 1)<li>('gown', 1)<li>('reverence,', 2)<li>('harm', 2)<li>('wife;', 1)<li>('ill:', 1)<li>(\"heart's\", 1)<li>('apprehension?', 1)<li>('holy-thistle.', 1)<li>('thinking,', 1)<li>('gallop.', 1)<li>('town,', 1)<li>('blunt', 2)<li>('skin', 1)<li>('king,', 1)<li>('ah?', 1)<li>('sir;', 2)<li>('soul,', 5)<li>('alas,', 2)<li>('neighbour,', 1)<li>('sir:', 2)<li>('wine', 1)<li>('recount', 1)<li>('inward', 1)<li>('Know', 2)<li>('render', 2)<li>('thankfulness.', 1)<li>('There,', 1)<li>('rotten', 1)<li>('luxurious', 1)<li>('blush', 1)<li>('orb,', 1)<li>('Venus,', 1)<li>('sensuality.', 1)<li>('move', 1)<li>('blot', 2)<li>('twelve', 1)<li>('ruffian', 1)<li>('encounters', 1)<li>('live,', 3)<li>('life.', 1)<li>('Took', 1)<li>('drops', 1)<li>('patient.', 1)<li>(\"Wash'd\", 1)<li>('Hear', 3)<li>('start', 1)<li>('errors', 1)<li>('seal', 2)<li>('excuse', 1)<li>('conversed', 1)<li>(\"Maintain'd\", 1)<li>('Refuse', 1)<li>('death!', 1)<li>('bastard,', 1)<li>('villanies.', 1)<li>('secretly', 3)<li>('monument', 3)<li>('mournful', 1)<li>('dying,', 1)<li>('idea', 1)<li>('moving-delicate', 1)<li>(\"levell'd\", 1)<li>('body.', 1)<li>('while?', 1)<li>('lovest', 1)<li>('Tarry,', 2)<li>('dishonoured', 1)<li>('gallant,', 1)<li>('sake!', 2)<li>('Sexton,', 1)<li>('CONRADE', 2)<li>('exhibition', 1)<li>('villains!', 1)<li>('Prince', 2)<li>('suddenly', 1)<li>('sexton?', 1)<li>('ass.', 3)<li>('water', 1)<li>('sieve:', 1)<li>('wrongs', 2)<li>('breadth', 1)<li>(\"'hem!'\", 1)<li>('passion,', 1)<li>('advertisement.', 1)<li>('differ.', 1)<li>('blood;', 1)<li>('push', 1)<li>('know;', 1)<li>('dishonour', 1)<li>('beshrew', 1)<li>('tush,', 1)<li>('tomb', 4)<li>('active', 1)<li>('child:', 1)<li>('dozen', 1)<li>('news?', 1)<li>('pale.', 1)<li>('Art', 2)<li>('more:', 1)<li>('challenge!', 1)<li>('[Aside', 1)<li>('feast?', 1)<li>('carve', 1)<li>(\"wise:'\", 1)<li>(\"'he\", 1)<li>(\"tongues.'\", 1)<li>(\"man'?\", 1)<li>('bastard', 1)<li>('earnest.', 1)<li>('doublet', 1)<li>('doctor', 1)<li>('incensed', 1)<li>('briefly,', 1)<li>('beliest', 1)<li>(\"sinn'd\", 1)<li>('offender,', 1)<li>('hanging', 1)<li>('health!', 1)<li>('mourn', 1)<li>('Mistress', 1)<li>('helping', 1)<li>('manly', 1)<li>('swords;', 1)<li>('bucklers', 1)<li>('vice;', 1)<li>('bookful', 1)<li>('carpet-mangers,', 1)<li>('road', 1)<li>('verse,', 1)<li>('rhyme;', 4)<li>(\"'school,'\", 1)<li>('now:', 1)<li>('unkissed.', 1)<li>('plainly,', 1)<li>('sake,', 1)<li>('quarter', 1)<li>('rheum:', 1)<li>('home:', 1)<li>('fed', 1)<li>('eyes;', 1)<li>('tongues', 1)<li>('lies:', 1)<li>('Lives', 1)<li>('sound,', 1)<li>('hymn.', 1)<li>('knight;', 1)<li>(\"speed's\", 1)<li>('reckoning', 1)<li>('Withdraw', 1)<li>('yourselves,', 1)<li>(\"mask'd.\", 1)<li>('prince:', 1)<li>('morrow', 1)<li>('To-day', 1)<li>('/Unmasking/', 1)<li>('dead!', 1)<li>('Meantime', 1)<li>('Soft', 1)<li>('deceived;', 2)<li>('friendly', 1)<li>(\"let's\", 1)<li>('sad;', 1)<li>('staff', 1)<li>('brave', 1)</ul></td><td valign=\"bottom\" halign=\"left\"><ul><li>(\"LEONATO'S\", 9)<li>('HERO,', 6)<li>('that', 243)<li>('Messina.', 3)<li>('the', 541)<li>('find', 10)<li>('bestowed', 3)<li>('himself', 8)<li>('how.', 3)<li>('will', 174)<li>('delivered', 1)<li>('him', 83)<li>('joy', 7)<li>('could', 17)<li>('break', 8)<li>('great', 16)<li>('washed.', 1)<li>('up', 18)<li>('Cupid', 5)<li>('for', 186)<li>('had', 44)<li>('trencherman;', 1)<li>('too,', 6)<li>('man:', 6)<li>('stuffing,--well,', 1)<li>('There', 10)<li>('war', 1)<li>('they', 73)<li>('skirmish', 1)<li>('conflict', 1)<li>('whole', 7)<li>('creature.', 1)<li>('fashion', 14)<li>('your', 173)<li>('Lord,', 4)<li>('pound', 2)<li>('being', 16)<li>('gone,', 2)<li>('times', 4)<li>('then', 24)<li>('If', 48)<li>('still', 5)<li>('courtesy', 1)<li>('women:', 1)<li>('been', 21)<li>('troubled', 1)<li>('dog', 3)<li>('some', 30)<li>('face.', 2)<li>('worse,', 1)<li>('beast', 2)<li>('Leonato.', 6)<li>('you:', 13)<li>('words,', 4)<li>('BENEDICK', 4)<li>('CLAUDIO/', 4)<li>('didst', 2)<li>('Leonato?', 2)<li>('her.', 18)<li>('honest', 13)<li>('little', 9)<li>('Would', 6)<li>('flouting', 1)<li>('mine', 21)<li>('hope', 4)<li>('trust', 8)<li>('wife.', 1)<li>('this?', 6)<li>('to,', 2)<li>('wilt', 8)<li>('constrain', 1)<li>(\"'twas\", 3)<li>('forbid', 3)<li>('fetch', 4)<li>('troth,', 12)<li>('mine.', 5)<li>('troths,', 1)<li>('wast', 3)<li>('up,', 3)<li>('anger,', 1)<li>('hits', 1)<li>('time', 10)<li>('vilely', 2)<li>('made', 13)<li>('embassage;', 1)<li>('From', 2)<li>('house,', 2)<li>('fragments,', 1)<li>('liege,', 1)<li>('son,', 4)<li>('No', 3)<li>('affect', 1)<li>('Claudio?', 3)<li>(\"soldier's\", 1)<li>('drive', 2)<li>(\"return'd\", 1)<li>('Come', 5)<li>('soft', 2)<li>('All', 7)<li>('words.', 1)<li>('story?', 1)<li>('might', 8)<li>('assume', 2)<li>('Where', 3)<li>('provided', 1)<li>('As', 21)<li>('walking', 1)<li>('thick-pleached', 1)<li>('overheard', 2)<li>('accordant,', 1)<li>('present', 3)<li>('instantly', 1)<li>('itself:', 1)<li>('peradventure', 2)<li>('same.', 3)<li>('patient', 1)<li>('moral', 4)<li>('smile', 2)<li>('jests,', 1)<li>('wait', 3)<li>('controlment.', 1)<li>('grace,', 2)<li>('fits', 1)<li>('man,', 11)<li>('denied', 2)<li>('enfranchised', 1)<li>('decreed', 1)<li>('meantime', 2)<li>('discontent?', 1)<li>('marriage.', 2)<li>('he.', 3)<li>('squire!', 1)<li>('behind', 2)<li>('himself,', 3)<li>('greater', 2)<li>(\"We'll\", 5)<li>('after.', 1)<li>('half', 5)<li>('leg', 1)<li>('curst', 3)<li>('curst:', 1)<li>('sending', 1)<li>('way;', 1)<li>('youth,', 2)<li>('youth', 3)<li>('Beatrice,', 10)<li>('sit,', 1)<li>('Yes,', 6)<li>('please', 5)<li>('another', 10)<li>('life', 8)<li>('wayward', 1)<li>('important,', 1)<li>('measure,', 2)<li>('hasty,', 1)<li>('church', 1)<li>('daylight.', 1)<li>('away.', 3)<li>('did', 28)<li>('clerk', 1)<li>('*URSULA*', 19)<li>('enough;', 2)<li>('word,', 3)<li>('unless', 4)<li>('end.', 1)<li>('fool;', 2)<li>('libertines', 1)<li>('fleet:', 1)<li>('wing', 1)<li>('We', 11)<li>('affairs', 1)<li>('agent;', 1)<li>('Against', 5)<li>('of?', 3)<li>('arm,', 1)<li>('Ho!', 1)<li>('me!', 8)<li>('wrong;', 1)<li>('bitter,', 1)<li>('disposition', 1)<li>('Troth,', 3)<li>('steals', 1)<li>('transgression?', 1)<li>('endurance', 1)<li>('Ate', 1)<li>('scholar', 1)<li>('hell', 1)<li>('horror', 1)<li>('devise', 3)<li>('beard,', 2)<li>('won', 1)<li>('false', 8)<li>('count!', 1)<li>('sick,', 2)<li>('false.', 1)<li>('won:', 1)<li>('or,', 1)<li>('care.', 2)<li>('cousin.', 3)<li>('day.', 2)<li>('beseech', 4)<li>('star', 1)<li>('element', 1)<li>('often', 1)<li>('unhappiness', 1)<li>('waked', 1)<li>('mocks', 1)<li>('Benedict.', 1)<li>(\"Hercules'\", 1)<li>('mountain', 1)<li>('stomach,', 2)<li>('Beatrice.', 9)<li>('hi', 1)<li>('canst', 1)<li>('dishonesty', 1)<li>('since,', 1)<li>('favour', 1)<li>('chamber', 2)<li>('window.', 1)<li>('death', 10)<li>('Proof', 1)<li>('alone:', 1)<li>('zeal', 1)<li>('reputation,', 2)<li>('maid,--that', 1)<li>('seeming', 1)<li>('truth', 7)<li>('shame', 7)<li>('orchard.', 2)<li>('that;', 1)<li>('again.', 3)<li>('will,', 6)<li>('drum', 1)<li>('orthography;', 1)<li>('transform', 1)<li>('oyster', 1)<li>('See', 1)<li>('hid', 2)<li>('crotchets', 1)<li>('more,', 8)<li>('Men', 1)<li>('deceivers', 1)<li>('ever,', 1)<li>('night-raven,', 1)<li>('abhor.', 1)<li>('effects', 1)<li>('knavery', 1)<li>(\"I,'\", 1)<li>('encountered', 1)<li>('beginning', 1)<li>('writ', 6)<li>('That.', 1)<li>('desperate', 1)<li>(\"She's\", 3)<li>('victory.', 1)<li>('dotage', 1)<li>('trembling.', 1)<li>('Well', 2)<li>('cool', 1)<li>('unworthy', 1)<li>('same', 3)<li>('net', 1)<li>('merely', 1)<li>('affections', 1)<li>('folly,', 1)<li>('horribly', 1)<li>('meat', 2)<li>('brain', 1)<li>('BEATRICE/', 4)<li>('fare', 7)<li>('well.', 4)<li>('picture.', 1)<li>('sun,', 1)<li>('advance', 1)<li>('Close', 1)<li>('angling', 1)<li>('Beatrice;', 3)<li>('couched', 1)<li>('wrestle', 1)<li>('affection,', 2)<li>('Misprising', 1)<li>('highly', 1)<li>('foul', 6)<li>('commendable.', 1)<li>('fashions', 1)<li>('speak,', 1)<li>('Therefore', 3)<li>('slanders', 1)<li>('swift', 1)<li>('valour,', 1)<li>('day,', 4)<li>('limed,', 1)<li>('lives', 2)<li>('kindness', 1)<li>('band;', 1)<li>('reportingly.', 1)<li>('coat', 1)<li>('bold', 1)<li>('What!', 1)<li>('toothache?', 1)<li>('mornings;', 1)<li>('conclude,', 3)<li>('upwards.', 1)<li>('aim', 2)<li>('disloyal.', 1)<li>('wedding-day:', 1)<li>('know:', 1)<li>('coldly', 1)<li>('strangely', 2)<li>('punishment', 1)<li>('First,', 3)<li>('*First', 6)<li>('Hugh', 1)<li>('name:', 1)<li>('constable,--', 2)<li>('have:', 1)<li>('lantern.', 1)<li>('stand,', 1)<li>('noise', 1)<li>('babble', 1)<li>('peaceable', 1)<li>('merciful', 1)<li>('bleats.', 1)<li>('charge:--you,', 1)<li>('Five', 1)<li>(\"fellows'\", 1)<li>('neighbour.', 2)<li>('church-bench', 1)<li>('Peace!', 2)<li>('drunkard,', 1)<li>('ones', 2)<li>(\"fool's\", 1)<li>('reeky', 1)<li>('priests', 1)<li>('deceive', 1)<li>('chiefly', 1)<li>('villany,', 1)<li>('Deformed', 2)<li>('speak:', 1)<li>('taken', 1)<li>('bills.', 1)<li>('Meg,', 2)<li>('think,', 2)<li>('otherwise', 2)<li>('barns.', 1)<li>('gloves', 1)<li>('stuffed!', 1)<li>('rarely?', 1)<li>('distilled', 1)<li>('Benedictus,', 1)<li>('eats', 1)<li>('Madam,', 2)<li>('tedious', 1)<li>('presence,', 1)<li>('couple', 1)<li>('age', 5)<li>('Gifts', 1)<li>('comprehended', 1)<li>('Drink', 1)<li>('inkhorn', 1)<li>('excommunication', 1)<li>('No.', 1)<li>('count.', 1)<li>('souls,', 1)<li>('knowing', 2)<li>('friar.', 2)<li>('guiltiness,', 1)<li>('knit', 1)<li>('large;', 1)<li>('kindly', 1)<li>('eyelids', 1)<li>('swoons/', 1)<li>('Fate!', 1)<li>('Cry', 1)<li>('eyes:', 2)<li>('would,', 1)<li>('Chid', 1)<li>(\"nature's\", 1)<li>('Valuing', 1)<li>('fallen', 1)<li>('foul-tainted', 1)<li>('flesh!', 1)<li>('night?', 1)<li>('although,', 1)<li>(\"confirm'd!\", 1)<li>('lie,', 2)<li>('silent', 1)<li>('noting', 1)<li>(\"mark'd\", 1)<li>('face,', 2)<li>('error.', 1)<li>('accuse', 2)<li>('Time', 1)<li>('fortune', 1)<li>('find,', 1)<li>('burial.', 1)<li>('remorse;', 1)<li>('accused,', 3)<li>('excused', 1)<li>('hearer:', 1)<li>('lost,', 1)<li>('study', 1)<li>('organ', 1)<li>('infamy:', 1)<li>('sort', 2)<li>('tongues,', 1)<li>('friar', 3)<li>('consented:', 1)<li>('strain', 2)<li>('cure.', 1)<li>('Perhaps', 1)<li>('scorned,', 1)<li>('wronged,', 1)<li>('Beat--', 1)<li>('Comfect;', 1)<li>('engaged;', 1)<li>('cousin:', 1)<li>('appeared?', 1)<li>('sexton.', 1)<li>('*Sexton*', 7)<li>('examined?', 1)<li>('first;', 2)<li>('marvellous', 1)<li>('witty', 1)<li>('none?', 1)<li>('eftest', 1)<li>('Pray', 2)<li>('mass,', 1)<li>('bound,', 1)<li>('naughty', 2)<li>('groan,', 2)<li>('madness', 1)<li>('load', 1)<li>('sorrow,', 1)<li>('sufficiency', 1)<li>('griefs', 1)<li>('Therein', 1)<li>('children', 1)<li>('philosopher', 1)<li>('dotard', 1)<li>('reverence', 1)<li>('villany!', 1)<li>('Win', 1)<li>('fashion-monging', 1)<li>('proof.', 1)<li>('See,', 1)<li>('woodcock', 1)<li>('ambles', 1)<li>(\"'No,'\", 1)<li>(\"'for\", 1)<li>('forswore', 1)<li>('did:', 1)<li>('deadly,', 1)<li>('moreover,', 2)<li>('text', 1)<li>('humour:', 1)<li>('fled', 2)<li>('Most', 1)<li>('reasons', 1)<li>('cursing', 1)<li>('Officers,', 1)<li>('committed', 1)<li>('thirdly,', 2)<li>('unjust', 1)<li>('done;', 1)<li>(\"master's\", 1)<li>('iron', 1)<li>('richly', 1)<li>('villain?', 1)<li>('Mine', 1)<li>('pair', 1)<li>('revenge', 1)<li>('mistaking.', 1)<li>('satisfy', 1)<li>('virtuous', 1)<li>('Moreover,', 1)<li>('white', 1)<li>('hard-hearted', 1)<li>('thankful', 1)<li>('example', 1)<li>('lewd', 1)<li>('/Sings/', 1)<li>('spoken;', 1)<li>('together;', 1)<li>('yours;', 1)<li>('weeps.', 1)<li>('author', 1)<li>('fame', 1)<li>('tomb,', 1)<li>('solemn', 1)<li>('SONG.', 1)<li>('songs', 1)<li>('uttered,', 1)<li>('wheels', 1)<li>('each', 1)<li>('Hymen', 1)<li>('woe.', 1)<li>('error', 1)<li>('Ladies/', 1)<li>('prince;', 2)<li>('Ethiope.', 1)<li>('Europa', 2)<li>('rejoice', 1)<li>('wife:', 2)<li>('largely', 1)<li>('familiar,', 1)<li>('chapel', 1)<li>('recompense.', 1)<li>('miracle!', 1)<li>('pity.', 1)<li>('/Kissing', 1)<li>('No:', 1)<li>('unbruised', 1)<li>('hoped', 1)<li>(\"wives'\", 1)</ul></td><td valign=\"bottom\" halign=\"left\"><ul><li>('BEATRICE,', 6)<li>('Arragon', 1)<li>('night', 8)<li>('lost', 3)<li>('action?', 1)<li>('brings', 2)<li>('full', 10)<li>('numbers.', 1)<li>('his', 120)<li>('indeed', 9)<li>('must', 35)<li>('Messina', 3)<li>('it.', 43)<li>('modest', 4)<li>('into', 28)<li>('know', 51)<li>('means', 3)<li>('as', 116)<li>('ever', 19)<li>('challenge,', 1)<li>('valiant', 3)<li>('stomach.', 1)<li>('sir,', 21)<li>('her:', 6)<li>('warm,', 1)<li>('horse;', 1)<li>('known', 6)<li>('faith', 3)<li>('taker', 1)<li>('God', 43)<li>(\"a'\", 13)<li>('hot', 3)<li>('CLAUDIO,', 9)<li>('BALTHASAR/', 2)<li>('Good', 16)<li>('trouble:', 1)<li>('her?', 4)<li>('guess', 1)<li>('shoulders', 1)<li>('wonder', 6)<li>('Lady', 14)<li>('convert', 1)<li>('presence.', 1)<li>('ladies,', 2)<li>('only', 15)<li>('love', 57)<li>('none.', 6)<li>('cold', 1)<li>('humour', 3)<li>('hear', 33)<li>('loves', 9)<li>('scratched', 1)<li>('rare', 5)<li>('speed', 1)<li>(\"i'\", 6)<li>('always', 4)<li>('end', 3)<li>('That', 30)<li>('dare', 9)<li>('hypocrite,', 1)<li>('swear,', 3)<li>('duty.', 1)<li>('JOHN*', 40)<li>('grace', 11)<li>('thou', 70)<li>('speak', 24)<li>('afford', 1)<li>('her,', 26)<li>('thinkest', 2)<li>('beauty', 3)<li>('May', 8)<li>('intent', 1)<li>('you?', 8)<li>('wear', 15)<li>('neck', 1)<li>('secret', 2)<li>('hear,', 2)<li>('but,', 9)<li>('part.', 1)<li>('short', 4)<li>('Hero,', 8)<li>(\"'it\", 2)<li>('shortly,', 1)<li>('otherwise.', 1)<li>('fire', 3)<li>('give', 25)<li>('them', 33)<li>('mistrust', 1)<li>('pale', 1)<li>('lose', 2)<li>(\"ballad-maker's\", 1)<li>('letters', 1)<li>('sixth', 3)<li>('flout', 5)<li>('Hath', 7)<li>('Hero;', 4)<li>('heir.', 1)<li>('rougher', 1)<li>('name', 7)<li>('vacant,', 1)<li>('rooms', 1)<li>('book', 1)<li>('bridge', 1)<li>('broader', 1)<li>(\"'tis\", 10)<li>('once,', 3)<li>('Claudio,', 13)<li>('dream', 2)<li>('answer,', 4)<li>('good-year,', 1)<li>('sadness', 1)<li>('late', 1)<li>('where', 7)<li>('yourself:', 2)<li>('any:', 1)<li>('clog;', 1)<li>('mouth,', 2)<li>('model', 1)<li>('Marry,', 14)<li>('looks', 4)<li>('conference:', 1)<li>('woo', 5)<li>('displeasure.', 1)<li>('supper?', 1)<li>('So,', 1)<li>('earnest', 1)<li>('hell?', 1)<li>('head,', 2)<li>('ruled', 1)<li>('duty', 1)<li>('grieve', 1)<li>('none:', 3)<li>('answer.', 3)<li>('fault', 2)<li>('time:', 1)<li>('Hero:', 3)<li>('wooing,', 2)<li>('repenting,', 1)<li>('repentance', 1)<li>('falls', 3)<li>('URSULA', 1)<li>('Amen.', 2)<li>('he,', 1)<li>('wit?', 2)<li>(\"Tales:'--well\", 1)<li>(\"What's\", 3)<li>('believe', 5)<li>('dull', 2)<li>('devising', 1)<li>('wit,', 4)<li>('do:', 1)<li>('saved,', 1)<li>('night.', 2)<li>('ill', 7)<li>('Therefore,', 1)<li>('negotiate', 1)<li>('Farewell,', 2)<li>('BENEDICK/', 3)<li>('fool!', 1)<li>('out.', 1)<li>('played', 2)<li>('nest,', 1)<li>('Wilt', 2)<li>('misused', 1)<li>('oak', 1)<li>('star.', 2)<li>('apparel.', 2)<li>('quiet', 2)<li>('LEONATO/', 5)<li>('Antipodes', 1)<li>('gave', 1)<li>('wherefore', 3)<li>('complexion.', 1)<li>('though,', 1)<li>('sunburnt;', 1)<li>('offends', 1)<li>('best', 4)<li>('question,', 3)<li>('means:', 1)<li>('County', 1)<li>('fain', 3)<li>('assistance', 1)<li>('gentle', 2)<li>('gentlewoman', 1)<li>('semblance', 3)<li>('jealousy', 1)<li>('assurance', 1)<li>('fee', 1)<li>('ducats.', 2)<li>('Boy/', 2)<li>('walked', 1)<li>('eyes?', 2)<li>('oath', 1)<li>('arbour.', 1)<li>('well,', 10)<li>('kid-fox', 1)<li>('commence', 1)<li>('notes.', 1)<li>('/Air/', 1)<li>(\"men's\", 3)<li>('Of', 6)<li>('dumps', 1)<li>('summer', 1)<li>('plague', 2)<li>('wonderful', 1)<li>('Bait', 1)<li>('thought', 9)<li>('infection:', 1)<li>('sheet', 2)<li>('paper:', 1)<li>('falls,', 1)<li>('tears', 2)<li>('hair,', 1)<li>('sweet', 12)<li>('Benedick!', 2)<li>('sparks', 1)<li>('valiant.', 1)<li>('large', 1)<li>('counsel.', 1)<li>('while.', 1)<li>('modestly', 1)<li>('ready.', 4)<li>('scene', 1)<li>('detractions', 1)<li>('married.', 1)<li>('took', 4)<li>('thanks', 2)<li>('URSULA/', 5)<li>('orchard', 3)<li>(\"overheard'st\", 1)<li>('sun', 1)<li>('Made', 2)<li>('office;', 1)<li>('trace', 1)<li>('truth.', 2)<li>('lance', 1)<li>('block', 1)<li>('turns', 3)<li>('sighs,', 1)<li>('mocks,', 1)<li>('shape,', 2)<li>('earn', 1)<li>('haps:', 1)<li>('ears?', 1)<li>('true?', 2)<li>('toward', 1)<li>('vouchsafe', 1)<li>('sound', 1)<li>('Gallants,', 1)<li>('as,', 4)<li>('German', 1)<li>('slops,', 1)<li>('Spaniard', 1)<li>(\"o'\", 4)<li>('seen', 5)<li>('ornament', 1)<li>('too:', 2)<li>('hobby-horses', 1)<li>('hear.', 1)<li>('dearness', 1)<li>('effect', 1)<li>('she;', 1)<li>('worse:', 1)<li>('worse', 1)<li>('to-night,', 2)<li>('proceed', 1)<li>('join', 1)<li>('Watch/', 1)<li>('Watchman*', 11)<li>('fortune;', 1)<li>('constable', 2)<li>('True,', 1)<li>('*Watchman*', 10)<li>('only,', 1)<li>('stolen.', 1)<li>('ale-houses,', 1)<li>('nurse', 2)<li>('asleep', 1)<li>('lamb', 1)<li>('stir', 1)<li>('close,', 1)<li>('villany', 3)<li>('hat,', 1)<li>('mean,', 3)<li>('thief', 3)<li>('seven', 1)<li>(\"Pharaoh's\", 1)<li>('worm-eaten', 1)<li>('giddy', 2)<li>('shifted', 1)<li>(\"mistress'\", 1)<li>('afar', 1)<li>('amiable', 2)<li>('temple,', 1)<li>('Call', 3)<li>('recovered', 1)<li>('masters,--', 1)<li>(\"You'll\", 1)<li>('IV.', 2)<li>('browner;', 1)<li>('exceeds,', 1)<li>('night-gown', 1)<li>('sleeves,', 2)<li>('skirts,', 1)<li>('underborne', 1)<li>(\"husband'?\", 1)<li>('methinks.', 1)<li>('horse,', 2)<li>('nay,', 4)<li>('gallants', 1)<li>('brows.', 1)<li>('odorous:', 1)<li>(\"ha'\", 1)<li>('arrant', 2)<li>('behind.', 1)<li>('neighbour!', 1)<li>('examined', 1)<li>('gaol:', 1)<li>('Friar', 1)<li>('honour.', 1)<li>('blushes', 1)<li>('here!', 1)<li>('tempted', 1)<li>('sister,', 1)<li>('blown;', 1)<li>(\"pamper'd\", 1)<li>('Sir,', 5)<li>('True!', 1)<li>('brother?', 1)<li>('daughter;', 1)<li>('virtue.', 1)<li>('of;', 1)<li>('Uncle!', 1)<li>('Wherefore!', 1)<li>('quickly', 1)<li>('Thought', 1)<li>('frame?', 1)<li>('attired', 1)<li>('belied!', 1)<li>('twelvemonth', 1)<li>('iron!', 1)<li>('shames', 1)<li>('whiteness', 1)<li>('means,', 1)<li>('quit', 1)<li>('throughly.', 1)<li>('Change', 1)<li>('travail', 1)<li>('birth.', 1)<li>('Upon', 2)<li>('possession', 1)<li>('success', 1)<li>('wounded', 1)<li>('advise', 1)<li>('away;', 2)<li>('sores', 1)<li>('friendship?', 1)<li>('Beatrice,--', 3)<li>('kinswoman?', 1)<li>('counties!', 1)<li>('compliment,', 1)<li>('grieving.', 1)<li>('VERGES,', 2)<li>('cushion', 1)<li>('proved', 3)<li>('deny.', 1)<li>('varlet!', 1)<li>('law,', 1)<li>('profitless', 1)<li>('such,', 1)<li>('branch,', 1)<li>('wag,', 1)<li>('candle-wasters;', 1)<li>('rage,', 1)<li>(\"speak'st\", 1)<li>('thou:--', 1)<li>('sword.', 1)<li>('privilege', 1)<li>('days,', 1)<li>('Hold', 1)<li>('weigh,', 1)<li>('scruple,--', 1)<li>('Scrambling,', 1)<li>(\"daughter's\", 2)<li>('heard.', 1)<li>('Welcome,', 1)<li>('teeth.', 1)<li>('Had', 1)<li>('fought,', 1)<li>('thee;', 2)<li>('side?', 1)<li>('draw,', 2)<li>('subject.', 1)<li>('staff:', 1)<li>('dare.', 1)<li>(\"one.'\", 2)<li>(\"wit:'\", 2)<li>(\"gentleman.'\", 1)<li>(\"'That\", 1)<li>('Monday', 1)<li>('sigh,', 1)<li>('underneath,', 1)<li>('Fare', 1)<li>('braggarts', 1)<li>('earnest;', 1)<li>('leaves', 1)<li>('sad.', 1)<li>('bound!', 1)<li>('Rightly', 1)<li>('deceived', 1)<li>('shame.', 1)<li>('reward', 1)<li>('treachery:', 1)<li>('villany.', 1)<li>('speak.', 1)<li>('Choose', 1)<li>('Possess', 1)<li>('Almost', 1)<li>(\"pack'd\", 1)<li>('borrows', 1)<li>('used', 1)<li>('foundation!', 1)<li>('knave', 1)<li>('correct', 1)<li>('others.', 1)<li>('humbly', 1)<li>('wished,', 1)<li>('fail.', 1)<li>('Watch]', 1)<li>('below', 1)<li>('above,', 1)<li>('names', 1)<li>('ominous', 1)<li>('endings:', 1)<li>('thereupon', 1)<li>('forcible', 1)<li>('undergoes', 1)<li>('coward.', 1)<li>('epithet!', 1)<li>('haste.', 1)<li>('falsely', 1)<li>('signior?', 2)<li>('moreover', 1)<li>('guerdon', 1)<li>('fame.', 1)<li>('virgin', 1)<li>('yield', 2)<li>('torches', 1)<li>('luckier', 1)<li>('pains,', 1)<li>('whereof', 1)<li>('enigmatical:', 1)<li>('feat', 1)<li>('certainer:', 1)<li>('gentleman.', 1)<li>(\"upon't\", 1)<li>('conclusion.', 1)<li>('lighten', 1)<li>('Prince,', 1)</ul></td><td valign=\"bottom\" halign=\"left\"><ul><li>('with', 191)<li>('a', 438)<li>('*LEONATO*', 120)<li>('comes', 14)<li>('him.', 16)<li>('many', 11)<li>('achiever', 1)<li>('deserved', 1)<li>('part', 10)<li>('doing,', 1)<li>('better', 12)<li>('those', 9)<li>('*BEATRICE*', 106)<li>('returned', 2)<li>('from', 26)<li>('name,', 6)<li>('army', 2)<li>('was.', 1)<li>('too', 27)<li>('doubt', 4)<li>('what', 59)<li>('man', 59)<li>('virtues.', 1)<li>('between', 7)<li>('gets', 1)<li>('our', 21)<li>('went', 5)<li>('off,', 1)<li>('keep', 8)<li>('left,', 1)<li>('reasonable', 1)<li>(\"Is't\", 3)<li>('burn', 2)<li>('who', 14)<li>('company', 2)<li>('Benedick,', 14)<li>('cured.', 1)<li>('DON', 22)<li>('*BENEDICK*', 134)<li>('doubt,', 1)<li>('Truly,', 3)<li>('herself.', 1)<li>('Be', 4)<li>('she', 111)<li>('Messina,', 2)<li>('is.', 3)<li>('marks', 2)<li>('turncoat.', 1)<li>('hard', 3)<li>('pernicious', 1)<li>('bark', 1)<li>('me.', 27)<li>(\"'scape\", 1)<li>('Scratching', 1)<li>('face', 6)<li>('horse', 2)<li>('Claudio', 20)<li>('stay', 7)<li>('least', 2)<li>('forsworn.', 1)<li>('JOHN/', 2)<li>('lord:', 7)<li>('Your', 9)<li>('noted', 1)<li>('fair', 10)<li>('can', 29)<li>('jewel?', 1)<li>('three-score', 1)<li>('faith;', 3)<li>('Look', 2)<li>('/Re-enter', 6)<li>('old', 17)<li>('well', 19)<li>('stake.', 1)<li>('force', 2)<li>('woman', 6)<li>('likewise', 1)<li>('recheat', 1)<li>('forehead,', 1)<li>('wrong', 4)<li>('die,', 5)<li>('pick', 1)<li>('door', 1)<li>('me;', 12)<li>('forehead:', 1)<li>('then.', 1)<li>('meantime,', 1)<li>('fail', 1)<li>('friend,', 1)<li>('highness', 1)<li>('hand', 10)<li>('Have', 5)<li>('tire', 2)<li>('twist', 1)<li>('sweetly', 3)<li>('love,', 9)<li>(\"love's\", 1)<li>('need', 3)<li>('Look,', 2)<li>('disguise', 1)<li>('unclasp', 1)<li>(\"LEONATO's\", 1)<li>('now,', 6)<li>('them:', 3)<li>('mine:', 1)<li>('discovered', 2)<li>('meant', 3)<li>('fellow', 4)<li>('sharp', 1)<li>('fellow:', 1)<li>('thou,', 2)<li>('art,', 1)<li>('born', 4)<li>('mischief.', 2)<li>('tend', 1)<li>('canker', 1)<li>('alter', 1)<li>('here?', 2)<li>('news,', 2)<li>('yonder', 1)<li>('royally', 1)<li>('intelligence', 1)<li>('intended', 2)<li>('build', 1)<li>('betroths', 1)<li>('exquisite', 1)<li>('forward', 2)<li>('having', 1)<li>('overthrow:', 1)<li>('assist', 2)<li>('cheer', 1)<li>('done?', 2)<li>('John', 10)<li>('hour', 6)<li>(\"John's\", 3)<li>('face,--', 1)<li>('uncle,', 2)<li>('curst.', 1)<li>('said,', 4)<li>(\"'God\", 1)<li>('face:', 1)<li>('waiting-gentlewoman?', 1)<li>(\"here's\", 7)<li>('shows', 4)<li>('day', 7)<li>('pierce', 1)<li>(\"Adam's\", 1)<li>('sons', 1)<li>('remember', 4)<li>('thing', 12)<li>('mannerly-modest,', 1)<li>('bad', 8)<li>('pace', 2)<li>('passing', 1)<li>('BALTHASAR,', 1)<li>('case!', 1)<li>(\"Philemon's\", 1)<li>('Jove.', 1)<li>('I,', 12)<li>('hearers', 1)<li>('done!', 1)<li>('Answer,', 1)<li>('words:', 2)<li>('true,', 3)<li>('Merry', 1)<li>('angers', 1)<li>('marked', 1)<li>('Sure', 1)<li>('well;', 9)<li>('birth:', 1)<li>('wooes', 1)<li>('This', 12)<li>('accident', 1)<li>('willow,', 1)<li>('drovier:', 1)<li>('Ha?', 1)<li>('either', 4)<li>('schoolboy,', 1)<li>('overjoyed', 1)<li>('finding', 1)<li>('stealer.', 1)<li>('thinking', 2)<li>('huddling', 1)<li>('transgressed:', 1)<li>('talk', 9)<li>('infernal', 1)<li>('perturbation', 1)<li>(\"Cham's\", 1)<li>(\"words'\", 1)<li>('employment', 1)<li>('Indeed,', 5)<li>('fools.', 1)<li>('sworn,', 2)<li>('broke', 3)<li>('cue.', 1)<li>('dote', 3)<li>('heigh-ho', 1)<li>('working-days:', 1)<li>('uncle.', 2)<li>('hence', 1)<li>('us.', 3)<li>('undertake', 1)<li>('unhopefullest', 1)<li>('valour', 2)<li>('archer:', 1)<li>('ours,', 2)<li>('displeasure', 1)<li>('honestly,', 1)<li>('covertly', 1)<li>('Show', 1)<li>('lordship', 2)<li>('lies', 3)<li>('brother;', 3)<li>('marrying', 1)<li>('estimation', 1)<li>('mightily', 2)<li>('misuse', 1)<li>('thus.', 1)<li>('scarcely', 1)<li>('instances;', 1)<li>('wedding,--for', 1)<li>('adverse', 1)<li>('Signior?', 1)<li>('already,', 1)<li>('/Exit', 4)<li>('wont', 2)<li>('words', 4)<li>('woman,', 2)<li>('once.', 1)<li>('speaks;', 1)<li>('soul', 6)<li>('horn', 1)<li>('Sigh', 1)<li>('foot', 1)<li>('never:', 1)<li>('Hey', 1)<li>('moe,', 1)<li>('Ha,', 2)<li>('An', 4)<li>('lief', 1)<li>('chamber-window.', 1)<li>('outward', 4)<li>('effects,', 1)<li>('gull,', 1)<li>('beats', 1)<li>('ecstasy', 1)<li>('wisdom', 2)<li>('it;', 7)<li>('spirit.', 1)<li>('wit.', 4)<li>('Hector,', 1)<li>('peace,', 2)<li>('seems', 4)<li>('expectation.', 1)<li>('dumb-show.', 1)<li>('why,', 9)<li>('happy', 2)<li>('addition', 1)<li>('broken', 1)<li>('paper', 2)<li>('Here', 4)<li>('Proposing', 1)<li>('Whisper', 1)<li>('Ursula', 2)<li>('us;', 1)<li>('honeysuckles,', 1)<li>('wounds', 1)<li>('lapwing,', 1)<li>('lay', 8)<li>('bower/', 1)<li>('disdainful;', 1)<li>('rock.', 1)<li>('god', 3)<li>('eyes,', 3)<li>('Values', 1)<li>('fair-faced,', 1)<li>('agate', 1)<li>('air;', 1)<li>('press', 1)<li>('stain', 1)<li>('liking.', 2)<li>('Having', 1)<li>('have--as', 1)<li>('Speaking', 1)<li>('through', 4)<li>('His', 2)<li>('madam.', 1)<li>('Some', 4)<li>('traps.', 1)<li>(\"condemn'd\", 1)<li>('such.', 1)<li>('bell', 2)<li>('speaks.', 1)<li>('Hang', 5)<li>('downward,', 1)<li>('cheek', 1)<li>('younger', 1)<li>('wash', 2)<li>('jesting', 1)<li>('knows', 9)<li>('you!', 1)<li>('does.', 1)<li>('disparage', 1)<li>('midnight,', 1)<li>('turned!', 1)<li>('salvation,', 1)<li>('soul.', 2)<li>('George', 1)<li>('read.', 1)<li>('together', 1)<li>('knave.', 1)<li>('talk:', 1)<li>('ewe', 1)<li>('cannot.', 1)<li>('weight', 3)<li>('own;', 1)<li>('BORACHIO', 1)<li>('Conrade,', 1)<li>('say!', 1)<li>('itched;', 1)<li>('rain;', 1)<li>('close.', 1)<li>('rich', 3)<li>('knowest', 1)<li>('fashion.', 2)<li>('Seest', 1)<li>('shaven', 1)<li>('telling', 1)<li>('fashion?', 1)<li>('bids', 1)<li>('planted', 1)<li>('Well.', 1)<li>('better.', 1)<li>('this.', 5)<li>('faith.', 1)<li>(\"Milan's\", 1)<li>('cloth', 1)<li>('cuts,', 1)<li>('tinsel:', 1)<li>('quaint,', 1)<li>(\"'the\", 2)<li>('else;', 1)<li>('heels.', 2)<li>('heigh-ho!', 1)<li>('H.', 1)<li>('cap.', 1)<li>('list', 1)<li>('V.', 1)<li>('neighbour?', 1)<li>('friends?', 1)<li>('bestow', 1)<li>('talking:', 1)<li>('troth', 1)<li>('examination', 2)<li>('men.', 2)<li>('writer', 1)<li>('conjoined,', 1)<li>('now!', 1)<li>('interjections?', 1)<li>('he!', 1)<li>('unconstrained', 1)<li>('cover', 3)<li>('wanton.', 1)<li>(\"'forehand\", 1)<li>(\"show'd\", 1)<li>('Seeming!', 1)<li>('bud', 1)<li>('intemperate', 1)<li>('wide?', 1)<li>(\"dishonour'd,\", 1)<li>('link', 1)<li>('prince?', 1)<li>('truly.', 1)<li>('hear:', 1)<li>('Fie,', 1)<li>('been,', 1)<li>('/HERO', 1)<li>('uncle!', 1)<li>('printed', 1)<li>('shames,', 1)<li>('derives', 1)<li>('clean', 1)<li>('given', 2)<li>('course', 2)<li>('Trust', 1)<li>('experimental', 1)<li>('book;', 1)<li>('guiltless', 1)<li>('perjury;', 1)<li>('Prove', 1)<li>('princes.', 1)<li>('awaked', 1)<li>('limb', 1)<li>('mourning', 1)<li>(\"lack'd\", 1)<li>('quench', 1)<li>('justly', 1)<li>('patience', 2)<li>('wronged.', 1)<li>('stayed', 1)<li>('height', 1)<li>('slandered,', 2)<li>('slander,', 2)<li>('Princes', 1)<li>('wishing,', 1)<li>('prison.', 1)<li>('DOGBERRY,', 2)<li>('dissembly', 1)<li>('Borachio.', 2)<li>('look,', 2)<li>('else?', 2)<li>('Flat', 1)<li>('burglary', 1)<li>('else,', 1)<li>('assembly.', 2)<li>('died.', 1)<li>('witness.', 1)<li>('householder,', 1)<li>(\"overwhelm'd\", 1)<li>('stroke', 1)<li>('Bid', 1)<li>('Their', 1)<li>('Charm', 1)<li>('lords,--', 1)<li>('quarreling,', 1)<li>('hairs', 1)<li>('Thy', 2)<li>('ancestors;', 1)<li>('slept,', 1)<li>('villany?', 1)<li>('Thine,', 1)<li>('lustihood.', 1)<li>('boy;', 1)<li>('villains,', 1)<li>('utmost', 1)<li>('deprave', 1)<li>('away!', 1)<li>('thou?', 1)<li>('valour.', 1)<li>('mettle', 1)<li>(\"'Right,'\", 1)<li>('concluded', 1)<li>('meet:', 1)<li>('lastly,', 2)<li>('answer?', 1)<li>('over', 5)<li>('enjoin', 1)<li>('live;', 1)<li>('over-kindness', 1)<li>('lords:', 1)<li>('fellows', 1)<li>('deservest', 1)<li>('mouth;', 1)<li>('foils,', 1)<li>('bucklers.', 1)<li>('maids.', 1)<li>('pitiful', 1)<li>('deserve,--', 1)<li>(\"'horn,'\", 1)<li>(\"'fool,'\", 1)<li>('babbling', 1)<li>('wind,', 1)<li>('erect', 1)<li>('Worm,', 1)<li>('dumb.', 1)<li>('Heavily,', 2)<li>('wolves', 1)<li>(\"prey'd;\", 1)<li>('HERO/', 1)<li>('gentle-women', 1)<li>(\"confirm'd\", 1)<li>('countenance.', 1)<li>('bull.', 1)<li>('Bull', 1)<li>('pocket,', 1)<li>('Containing', 1)<li>('mouth.', 1)<li>('word;', 1)<li>('horn.', 1)</ul></td></table>"
      ],
      "text/plain": [
       "<__main__.DisplayRDD at 0x7fe6e81080b8>"
      ]
     },
     "execution_count": 31,
     "metadata": {},
     "output_type": "execute_result"
    }
   ],
   "source": [
    "counts = textFile.flatMap(lambda line: line.split(\" \")).map(lambda word: (word, 1)).reduceByKey(lambda a, b: a + b)\n",
    "DisplayRDD(counts)"
   ]
  },
  {
   "cell_type": "markdown",
   "metadata": {
    "collapsed": true
   },
   "source": [
    "The above single-line code chained a sequence of Spark operations. Here is how it would look if you were to separate all of those out into individual functions:\n",
    "```\n",
    "def split(line): \n",
    "    return line.split(\" \")\n",
    "def generateone(word): \n",
    "    return (word, 1)\n",
    "def sum(a, b):\n",
    "    return a + b\n",
    "\n",
    "textfile.flatMap(split).map(generateone).reduceByKey(sum)\n",
    "```"
   ]
  },
  {
   "cell_type": "code",
   "execution_count": null,
   "metadata": {},
   "outputs": [],
   "source": []
  }
 ],
 "metadata": {
  "kernelspec": {
   "display_name": "Python 3",
   "language": "python",
   "name": "python3"
  },
  "language_info": {
   "codemirror_mode": {
    "name": "ipython",
    "version": 3
   },
   "file_extension": ".py",
   "mimetype": "text/x-python",
   "name": "python",
   "nbconvert_exporter": "python",
   "pygments_lexer": "ipython3",
   "version": "3.6.3"
  }
 },
 "nbformat": 4,
 "nbformat_minor": 1
}
